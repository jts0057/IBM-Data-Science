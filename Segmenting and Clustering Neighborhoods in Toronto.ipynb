{
    "cells": [
        {
            "metadata": {},
            "cell_type": "markdown",
            "source": "#### Import necessary libraries"
        },
        {
            "metadata": {},
            "cell_type": "code",
            "source": "import numpy as np \nimport pandas as pd \nimport requests\nfrom bs4 import BeautifulSoup",
            "execution_count": 1,
            "outputs": []
        },
        {
            "metadata": {},
            "cell_type": "markdown",
            "source": "#### Scrape Data from Wikipedia"
        },
        {
            "metadata": {},
            "cell_type": "code",
            "source": "source = requests.get('https://en.wikipedia.org/wiki/List_of_postal_codes_of_Canada:_M').text\n\nsoup = BeautifulSoup(source, 'html5lib')\n\npostal_codes_dict = {} # initialize an empty dictionary to save the data in\nfor table_cell in soup.find_all('td'):\n    try:\n        postal_code = table_cell.p.b.text # get the postal code\n        postal_code_investigate = table_cell.span.text\n        neighborhoods_data = table_cell.span.text # get the rest of the data in the cell\n        borough = neighborhoods_data.split('(')[0] # get the borough in the cell\n        \n        # if the cell is not assigned then ignore it\n        if neighborhoods_data == 'Not assigned':\n            neighborhoods = []\n        # else process the data and add it to the dictionary\n        else:\n            postal_codes_dict[postal_code] = {}\n            \n            try:\n                neighborhoods = neighborhoods_data.split('(')[1]\n            \n                # remove parantheses from neighborhoods string\n                neighborhoods = neighborhoods.replace('(', ' ')\n                neighborhoods = neighborhoods.replace(')', ' ')\n\n                neighborhoods_names = neighborhoods.split('/')\n                neighborhoods_clean = ', '.join([name.strip() for name in neighborhoods_names])\n            except:\n                borough = borough.strip('\\n')\n                neighborhoods_clean = borough\n \n            # add borough and neighborhood to dictionary\n            postal_codes_dict[postal_code]['borough'] = borough\n            postal_codes_dict[postal_code]['neighborhoods'] = neighborhoods_clean\n    except:\n        pass\n    \n# create an empty dataframe\ncolumns = ['PostalCode', 'Borough', 'Neighborhood']\ntoronto_data = pd.DataFrame(columns=columns)\ntoronto_data\n\n# populate dataframe with data from dictionary\nfor ind, postal_code in enumerate(postal_codes_dict):\n    borough = postal_codes_dict[postal_code]['borough']\n    neighborhood = postal_codes_dict[postal_code]['neighborhoods']\n    toronto_data = toronto_data.append({\"PostalCode\": postal_code, \n                                        \"Borough\": borough, \n                                        \"Neighborhood\": neighborhood},\n                                        ignore_index=True)\n",
            "execution_count": null,
            "outputs": []
        },
        {
            "metadata": {},
            "cell_type": "markdown",
            "source": "##### Here, we had to index the first column called Postal Code"
        },
        {
            "metadata": {},
            "cell_type": "code",
            "source": "df= pd.read_csv(body).set_index(\"Postal Code\")\ndf.head()\n",
            "execution_count": 15,
            "outputs": [
                {
                    "output_type": "execute_result",
                    "execution_count": 15,
                    "data": {
                        "text/plain": "                      Borough                                Neighborhood\nPostal Code                                                              \nM3A                North York                                   Parkwoods\nM4A                North York                            Victoria Village\nM5A          Downtown Toronto                    Regent Park/Harbourfront\nM6A                North York             Lawrence Manor/Lawrence Heights\nM7A          Downtown Toronto  Queen's Park/Ontario Provincial Government",
                        "text/html": "<div>\n<style scoped>\n    .dataframe tbody tr th:only-of-type {\n        vertical-align: middle;\n    }\n\n    .dataframe tbody tr th {\n        vertical-align: top;\n    }\n\n    .dataframe thead th {\n        text-align: right;\n    }\n</style>\n<table border=\"1\" class=\"dataframe\">\n  <thead>\n    <tr style=\"text-align: right;\">\n      <th></th>\n      <th>Borough</th>\n      <th>Neighborhood</th>\n    </tr>\n    <tr>\n      <th>Postal Code</th>\n      <th></th>\n      <th></th>\n    </tr>\n  </thead>\n  <tbody>\n    <tr>\n      <th>M3A</th>\n      <td>North York</td>\n      <td>Parkwoods</td>\n    </tr>\n    <tr>\n      <th>M4A</th>\n      <td>North York</td>\n      <td>Victoria Village</td>\n    </tr>\n    <tr>\n      <th>M5A</th>\n      <td>Downtown Toronto</td>\n      <td>Regent Park/Harbourfront</td>\n    </tr>\n    <tr>\n      <th>M6A</th>\n      <td>North York</td>\n      <td>Lawrence Manor/Lawrence Heights</td>\n    </tr>\n    <tr>\n      <th>M7A</th>\n      <td>Downtown Toronto</td>\n      <td>Queen's Park/Ontario Provincial Government</td>\n    </tr>\n  </tbody>\n</table>\n</div>"
                    },
                    "metadata": {}
                }
            ]
        },
        {
            "metadata": {},
            "cell_type": "markdown",
            "source": "#### Retrieve Postal Coordinates\n##### Now that we have built a dataframe of the postal code of each neighborhood along with the borough name and neighborhood name, in order to utilize the Foursquare location data, we need to get the latitude and the longitude coordinates of each neighborhood.  Here, I aquired the latitude and longitude coordinates and appended them to a new data frame."
        },
        {
            "metadata": {},
            "cell_type": "code",
            "source": "toronto_geo='https://cocl.us/Geospatial_data'\n!wget -q -O 'toronto_m.geospatial_data.csv' toronto_geo\ngeocsv_data = pd.read_csv(toronto_geo).set_index(\"Postal Code\")\ngeocsv_data.head()",
            "execution_count": 16,
            "outputs": [
                {
                    "output_type": "execute_result",
                    "execution_count": 16,
                    "data": {
                        "text/plain": "              Latitude  Longitude\nPostal Code                      \nM1B          43.806686 -79.194353\nM1C          43.784535 -79.160497\nM1E          43.763573 -79.188711\nM1G          43.770992 -79.216917\nM1H          43.773136 -79.239476",
                        "text/html": "<div>\n<style scoped>\n    .dataframe tbody tr th:only-of-type {\n        vertical-align: middle;\n    }\n\n    .dataframe tbody tr th {\n        vertical-align: top;\n    }\n\n    .dataframe thead th {\n        text-align: right;\n    }\n</style>\n<table border=\"1\" class=\"dataframe\">\n  <thead>\n    <tr style=\"text-align: right;\">\n      <th></th>\n      <th>Latitude</th>\n      <th>Longitude</th>\n    </tr>\n    <tr>\n      <th>Postal Code</th>\n      <th></th>\n      <th></th>\n    </tr>\n  </thead>\n  <tbody>\n    <tr>\n      <th>M1B</th>\n      <td>43.806686</td>\n      <td>-79.194353</td>\n    </tr>\n    <tr>\n      <th>M1C</th>\n      <td>43.784535</td>\n      <td>-79.160497</td>\n    </tr>\n    <tr>\n      <th>M1E</th>\n      <td>43.763573</td>\n      <td>-79.188711</td>\n    </tr>\n    <tr>\n      <th>M1G</th>\n      <td>43.770992</td>\n      <td>-79.216917</td>\n    </tr>\n    <tr>\n      <th>M1H</th>\n      <td>43.773136</td>\n      <td>-79.239476</td>\n    </tr>\n  </tbody>\n</table>\n</div>"
                    },
                    "metadata": {}
                }
            ]
        },
        {
            "metadata": {},
            "cell_type": "markdown",
            "source": "#### Join the coordinate data frame and our orginial data frame using the .join()"
        },
        {
            "metadata": {},
            "cell_type": "code",
            "source": "toronto_neighborhoods = df.join(geocsv_data)\ntoronto_neighborhoods.head()",
            "execution_count": 18,
            "outputs": [
                {
                    "output_type": "execute_result",
                    "execution_count": 18,
                    "data": {
                        "text/plain": "                 Borough                          Neighborhood   Latitude  \\\nPostal Code                                                                 \nM1B          Scarborough                         Malvern/Rouge  43.806686   \nM1C          Scarborough  Rouge Hill/Port Union/Highland Creek  43.784535   \nM1E          Scarborough       Guildwood/Morningside/West Hill  43.763573   \nM1G          Scarborough                                Woburn  43.770992   \nM1H          Scarborough                             Cedarbrae  43.773136   \n\n             Longitude  \nPostal Code             \nM1B         -79.194353  \nM1C         -79.160497  \nM1E         -79.188711  \nM1G         -79.216917  \nM1H         -79.239476  ",
                        "text/html": "<div>\n<style scoped>\n    .dataframe tbody tr th:only-of-type {\n        vertical-align: middle;\n    }\n\n    .dataframe tbody tr th {\n        vertical-align: top;\n    }\n\n    .dataframe thead th {\n        text-align: right;\n    }\n</style>\n<table border=\"1\" class=\"dataframe\">\n  <thead>\n    <tr style=\"text-align: right;\">\n      <th></th>\n      <th>Borough</th>\n      <th>Neighborhood</th>\n      <th>Latitude</th>\n      <th>Longitude</th>\n    </tr>\n    <tr>\n      <th>Postal Code</th>\n      <th></th>\n      <th></th>\n      <th></th>\n      <th></th>\n    </tr>\n  </thead>\n  <tbody>\n    <tr>\n      <th>M1B</th>\n      <td>Scarborough</td>\n      <td>Malvern/Rouge</td>\n      <td>43.806686</td>\n      <td>-79.194353</td>\n    </tr>\n    <tr>\n      <th>M1C</th>\n      <td>Scarborough</td>\n      <td>Rouge Hill/Port Union/Highland Creek</td>\n      <td>43.784535</td>\n      <td>-79.160497</td>\n    </tr>\n    <tr>\n      <th>M1E</th>\n      <td>Scarborough</td>\n      <td>Guildwood/Morningside/West Hill</td>\n      <td>43.763573</td>\n      <td>-79.188711</td>\n    </tr>\n    <tr>\n      <th>M1G</th>\n      <td>Scarborough</td>\n      <td>Woburn</td>\n      <td>43.770992</td>\n      <td>-79.216917</td>\n    </tr>\n    <tr>\n      <th>M1H</th>\n      <td>Scarborough</td>\n      <td>Cedarbrae</td>\n      <td>43.773136</td>\n      <td>-79.239476</td>\n    </tr>\n  </tbody>\n</table>\n</div>"
                    },
                    "metadata": {}
                }
            ]
        },
        {
            "metadata": {},
            "cell_type": "markdown",
            "source": "#### Use the .shape() to find the dimensions of our combined data frame"
        },
        {
            "metadata": {},
            "cell_type": "code",
            "source": "toronto_neighborhoods.shape",
            "execution_count": 19,
            "outputs": [
                {
                    "output_type": "execute_result",
                    "execution_count": 19,
                    "data": {
                        "text/plain": "(103, 4)"
                    },
                    "metadata": {}
                }
            ]
        },
        {
            "metadata": {},
            "cell_type": "code",
            "source": "#Our new dataframe has 103 rows with 4 columns",
            "execution_count": null,
            "outputs": []
        }
    ],
    "metadata": {
        "kernelspec": {
            "name": "python3",
            "display_name": "Python 3.6",
            "language": "python"
        },
        "language_info": {
            "name": "python",
            "version": "3.6.9",
            "mimetype": "text/x-python",
            "codemirror_mode": {
                "name": "ipython",
                "version": 3
            },
            "pygments_lexer": "ipython3",
            "nbconvert_exporter": "python",
            "file_extension": ".py"
        }
    },
    "nbformat": 4,
    "nbformat_minor": 1
}