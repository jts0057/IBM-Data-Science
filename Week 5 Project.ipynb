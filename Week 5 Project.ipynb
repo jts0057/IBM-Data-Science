{
    "cells": [
        {
            "metadata": {
                "collapsed": true
            },
            "cell_type": "markdown",
            "source": "# IBM Applied Data Science Capstone Project"
        },
        {
            "metadata": {},
            "cell_type": "markdown",
            "source": "## Week 5 Final Report: Finding the best location for shopping malls in Nashville, Tennessee"
        },
        {
            "metadata": {},
            "cell_type": "markdown",
            "source": "### Import Libraries"
        },
        {
            "metadata": {},
            "cell_type": "code",
            "source": "import numpy as np # library to handle data in a vectorized manner\n\nimport pandas as pd # library for data analsysis\npd.set_option('display.max_columns', None)\npd.set_option('display.max_rows', None)\n\nimport json # library to handle JSON files\n\n!conda install -c conda-forge geopy --yes # uncomment this line if you haven't completed the Foursquare API lab\nfrom geopy.geocoders import Nominatim # convert an address into latitude and longitude values\n\nimport requests # library to handle requests\nfrom pandas.io.json import json_normalize # tranform JSON file into a pandas dataframe\n\n# Matplotlib and associated plotting modules\nimport matplotlib.cm as cm\nimport matplotlib.colors as colors\n\n# import k-means from clustering stage\nfrom sklearn.cluster import KMeans\n\n!conda install -c conda-forge folium=0.5.0 --yes # uncomment this line if you haven't completed the Foursquare API lab\nimport folium # map rendering library\n\nprint('Libraries imported.')",
            "execution_count": 12,
            "outputs": [
                {
                    "output_type": "stream",
                    "text": "Solving environment: done\n\n# All requested packages already installed.\n\nSolving environment: done\n\n## Package Plan ##\n\n  environment location: /opt/conda/envs/Python36\n\n  added / updated specs: \n    - folium=0.5.0\n\n\nThe following packages will be downloaded:\n\n    package                    |            build\n    ---------------------------|-----------------\n    branca-0.4.1               |             py_0          26 KB  conda-forge\n    folium-0.5.0               |             py_0          45 KB  conda-forge\n    vincent-0.4.4              |             py_1          28 KB  conda-forge\n    altair-4.1.0               |             py_1         614 KB  conda-forge\n    ------------------------------------------------------------\n                                           Total:         713 KB\n\nThe following NEW packages will be INSTALLED:\n\n    altair:  4.1.0-py_1 conda-forge\n    branca:  0.4.1-py_0 conda-forge\n    folium:  0.5.0-py_0 conda-forge\n    vincent: 0.4.4-py_1 conda-forge\n\n\nDownloading and Extracting Packages\nbranca-0.4.1         | 26 KB     | ##################################### | 100% \nfolium-0.5.0         | 45 KB     | ##################################### | 100% \nvincent-0.4.4        | 28 KB     | ##################################### | 100% \naltair-4.1.0         | 614 KB    | ##################################### | 100% \nPreparing transaction: done\nVerifying transaction: done\nExecuting transaction: done\nLibraries imported.\n",
                    "name": "stdout"
                }
            ]
        },
        {
            "metadata": {},
            "cell_type": "code",
            "source": "import requests \nfrom bs4 import BeautifulSoup",
            "execution_count": 13,
            "outputs": []
        },
        {
            "metadata": {},
            "cell_type": "code",
            "source": "!pip install geocoder",
            "execution_count": 14,
            "outputs": [
                {
                    "output_type": "stream",
                    "text": "Collecting geocoder\n\u001b[?25l  Downloading https://files.pythonhosted.org/packages/4f/6b/13166c909ad2f2d76b929a4227c952630ebaf0d729f6317eb09cbceccbab/geocoder-1.38.1-py2.py3-none-any.whl (98kB)\n\u001b[K     |\u2588\u2588\u2588\u2588\u2588\u2588\u2588\u2588\u2588\u2588\u2588\u2588\u2588\u2588\u2588\u2588\u2588\u2588\u2588\u2588\u2588\u2588\u2588\u2588\u2588\u2588\u2588\u2588\u2588\u2588\u2588\u2588| 102kB 10.1MB/s ta 0:00:01\n\u001b[?25hRequirement already satisfied: click in /opt/conda/envs/Python36/lib/python3.6/site-packages (from geocoder) (7.0)\nRequirement already satisfied: future in /opt/conda/envs/Python36/lib/python3.6/site-packages (from geocoder) (0.17.1)\nRequirement already satisfied: requests in /opt/conda/envs/Python36/lib/python3.6/site-packages (from geocoder) (2.21.0)\nRequirement already satisfied: six in /opt/conda/envs/Python36/lib/python3.6/site-packages (from geocoder) (1.12.0)\nCollecting ratelim (from geocoder)\n  Downloading https://files.pythonhosted.org/packages/f2/98/7e6d147fd16a10a5f821db6e25f192265d6ecca3d82957a4fdd592cad49c/ratelim-0.1.6-py2.py3-none-any.whl\nRequirement already satisfied: chardet<3.1.0,>=3.0.2 in /opt/conda/envs/Python36/lib/python3.6/site-packages (from requests->geocoder) (3.0.4)\nRequirement already satisfied: idna<2.9,>=2.5 in /opt/conda/envs/Python36/lib/python3.6/site-packages (from requests->geocoder) (2.8)\nRequirement already satisfied: urllib3<1.25,>=1.21.1 in /opt/conda/envs/Python36/lib/python3.6/site-packages (from requests->geocoder) (1.24.1)\nRequirement already satisfied: certifi>=2017.4.17 in /opt/conda/envs/Python36/lib/python3.6/site-packages (from requests->geocoder) (2020.4.5.1)\nRequirement already satisfied: decorator in /opt/conda/envs/Python36/lib/python3.6/site-packages (from ratelim->geocoder) (4.3.2)\nInstalling collected packages: ratelim, geocoder\nSuccessfully installed geocoder-1.38.1 ratelim-0.1.6\n",
                    "name": "stdout"
                }
            ]
        },
        {
            "metadata": {},
            "cell_type": "markdown",
            "source": "### Scrape Data from Wikipedia into Dataframe"
        },
        {
            "metadata": {},
            "cell_type": "code",
            "source": "data = requests.get(\"https://en.wikipedia.org/wiki/Category:Neighborhoods_in_Nashville,_Tennessee\").text",
            "execution_count": 15,
            "outputs": []
        },
        {
            "metadata": {},
            "cell_type": "code",
            "source": "soup = BeautifulSoup(data, 'html.parser')",
            "execution_count": 16,
            "outputs": []
        },
        {
            "metadata": {},
            "cell_type": "code",
            "source": "neighborhoodList = []",
            "execution_count": 17,
            "outputs": []
        },
        {
            "metadata": {},
            "cell_type": "code",
            "source": "for row in soup.find_all(\"div\", class_=\"mw-category\")[0].findAll(\"li\"):\n    neighborhoodList.append(row.text)",
            "execution_count": 18,
            "outputs": []
        },
        {
            "metadata": {},
            "cell_type": "code",
            "source": "nv_df = pd.DataFrame({\"Neighborhood\": neighborhoodList})\n\nnv_df.head()",
            "execution_count": 19,
            "outputs": [
                {
                    "output_type": "execute_result",
                    "execution_count": 19,
                    "data": {
                        "text/plain": "                Neighborhood\n0         Antioch, Tennessee\n1          Bakers, Tennessee\n2        Bellevue, Tennessee\n3        Donelson, Tennessee\n4  East Nashville, Tennessee",
                        "text/html": "<div>\n<style scoped>\n    .dataframe tbody tr th:only-of-type {\n        vertical-align: middle;\n    }\n\n    .dataframe tbody tr th {\n        vertical-align: top;\n    }\n\n    .dataframe thead th {\n        text-align: right;\n    }\n</style>\n<table border=\"1\" class=\"dataframe\">\n  <thead>\n    <tr style=\"text-align: right;\">\n      <th></th>\n      <th>Neighborhood</th>\n    </tr>\n  </thead>\n  <tbody>\n    <tr>\n      <th>0</th>\n      <td>Antioch, Tennessee</td>\n    </tr>\n    <tr>\n      <th>1</th>\n      <td>Bakers, Tennessee</td>\n    </tr>\n    <tr>\n      <th>2</th>\n      <td>Bellevue, Tennessee</td>\n    </tr>\n    <tr>\n      <th>3</th>\n      <td>Donelson, Tennessee</td>\n    </tr>\n    <tr>\n      <th>4</th>\n      <td>East Nashville, Tennessee</td>\n    </tr>\n  </tbody>\n</table>\n</div>"
                    },
                    "metadata": {}
                }
            ]
        },
        {
            "metadata": {},
            "cell_type": "code",
            "source": "nv_df.shape #number of rows in the nv_df dataframe",
            "execution_count": 20,
            "outputs": [
                {
                    "output_type": "execute_result",
                    "execution_count": 20,
                    "data": {
                        "text/plain": "(20, 1)"
                    },
                    "metadata": {}
                }
            ]
        },
        {
            "metadata": {},
            "cell_type": "markdown",
            "source": "### Geographical Coordinates"
        },
        {
            "metadata": {},
            "cell_type": "code",
            "source": "# define function to get coordinates\ndef get_latlng(neighborhood):\n    # initialize variable to None\n    lat_lng_coords = None\n    # loop to get the coordinates\n    while(lat_lng_coords is None):\n        g = geocoder.arcgis('{}, Nashville, TN'.format(neighborhood))\n        lat_lng_coords = g.latlng\n    return lat_lng_coords",
            "execution_count": 21,
            "outputs": []
        },
        {
            "metadata": {},
            "cell_type": "code",
            "source": "coords = [ get_latlng(neighborhood) for neighborhood in nv_df[\"Neighborhood\"].tolist() ]",
            "execution_count": null,
            "outputs": []
        },
        {
            "metadata": {},
            "cell_type": "code",
            "source": "# create temporary dataframe to populate the coordinates into Latitude and Longitude\ndf_coords = pd.DataFrame(coords, columns=['Latitude', 'Longitude'])",
            "execution_count": null,
            "outputs": []
        },
        {
            "metadata": {},
            "cell_type": "code",
            "source": "# merge the coordinates into the original dataframe\ndf1['Latitude'] = df_coords['Latitude']\ndf1['Longitude'] = ",
            "execution_count": null,
            "outputs": []
        },
        {
            "metadata": {},
            "cell_type": "code",
            "source": "# check the neighborhoods and the coordinates\ndf1.head()",
            "execution_count": 25,
            "outputs": [
                {
                    "output_type": "execute_result",
                    "execution_count": 25,
                    "data": {
                        "text/plain": "     Neighborhood   Latitude  Longitude\n0         Antioch  36.162757  86.781661\n1          Bakers  36.264589  86.873351\n2         Bellvue  36.213641  86.677695\n3        Donelson  36.188542  86.598365\n4  East Nashville  36.193642  86.552143",
                        "text/html": "<div>\n<style scoped>\n    .dataframe tbody tr th:only-of-type {\n        vertical-align: middle;\n    }\n\n    .dataframe tbody tr th {\n        vertical-align: top;\n    }\n\n    .dataframe thead th {\n        text-align: right;\n    }\n</style>\n<table border=\"1\" class=\"dataframe\">\n  <thead>\n    <tr style=\"text-align: right;\">\n      <th></th>\n      <th>Neighborhood</th>\n      <th>Latitude</th>\n      <th>Longitude</th>\n    </tr>\n  </thead>\n  <tbody>\n    <tr>\n      <th>0</th>\n      <td>Antioch</td>\n      <td>36.162757</td>\n      <td>86.781661</td>\n    </tr>\n    <tr>\n      <th>1</th>\n      <td>Bakers</td>\n      <td>36.264589</td>\n      <td>86.873351</td>\n    </tr>\n    <tr>\n      <th>2</th>\n      <td>Bellvue</td>\n      <td>36.213641</td>\n      <td>86.677695</td>\n    </tr>\n    <tr>\n      <th>3</th>\n      <td>Donelson</td>\n      <td>36.188542</td>\n      <td>86.598365</td>\n    </tr>\n    <tr>\n      <th>4</th>\n      <td>East Nashville</td>\n      <td>36.193642</td>\n      <td>86.552143</td>\n    </tr>\n  </tbody>\n</table>\n</div>"
                    },
                    "metadata": {}
                }
            ]
        },
        {
            "metadata": {},
            "cell_type": "markdown",
            "source": "### Create a map of Nashville with Neighborhoods Superimposed on Top"
        },
        {
            "metadata": {},
            "cell_type": "code",
            "source": "# get the coordinates of Nashville, TN\naddress = 'Nashville, TN'\n\ngeolocator = Nominatim(user_agent=\"my-application\")\nlocation = geolocator.geocode(address)\nlatitude = location.latitude\nlongitude = location.longitude",
            "execution_count": null,
            "outputs": []
        },
        {
            "metadata": {},
            "cell_type": "code",
            "source": "# create map of Nashville using latitude and longitude values\nmap_nv = folium.Map(location=[latitude, longitude], zoom_start=11)\n\n# add markers to map\nfor lat, lng, neighborhood in zip(kl_df['Latitude'], df1['Longitude'], df1['Neighborhood']):\n    label = '{}'.format(neighborhood)\n    label = folium.Popup(label, parse_html=True)\n    folium.CircleMarker(\n        [lat, lng],\n        radius=5,\n        popup=label,\n        color='blue',\n        fill=True,\n        fill_color='#3186cc',\n        fill_opacity=0.7).add_to(map_kl)  \n    \nmap_nv",
            "execution_count": null,
            "outputs": []
        },
        {
            "metadata": {},
            "cell_type": "code",
            "source": "# save the map as HTML file\nmap_nv.save('map_nv.html')",
            "execution_count": null,
            "outputs": []
        },
        {
            "metadata": {},
            "cell_type": "markdown",
            "source": "### Use the Foursquare API to Explore Neighborhoods"
        },
        {
            "metadata": {},
            "cell_type": "code",
            "source": "### Credentials are hidden",
            "execution_count": null,
            "outputs": []
        },
        {
            "metadata": {},
            "cell_type": "markdown",
            "source": "##### Get top 100 venues that are within a radius of 2000m"
        },
        {
            "metadata": {},
            "cell_type": "code",
            "source": "radius = 2000\nLIMIT = 100\n\nvenues = []\n\nfor lat, long, neighborhood in zip(df1['Latitude'], df1['Longitude'], df1['Neighborhood']):\n    \n    # create the API request URL\n    url = \"https://api.foursquare.com/v2/venues/explore?client_id={}&client_secret={}&v={}&ll={},{}&radius={}&limit={}\".format(\n        CLIENT_ID,\n        CLIENT_SECRET,\n        VERSION,\n        lat,\n        long,\n        radius, \n        LIMIT)\n    \n    # make the GET request\n    results = requests.get(url).json()[\"response\"]['groups'][0]['items']\n    \n    # return only relevant information for each nearby venue\n    for venue in results:\n        venues.append((\n            neighborhood,\n            lat, \n            long, \n            venue['venue']['name'], \n            venue['venue']['location']['lat'], \n            venue['venue']['location']['lng'],  \n            venue['venue']['categories'][0]['name']))",
            "execution_count": null,
            "outputs": []
        },
        {
            "metadata": {},
            "cell_type": "code",
            "source": "venues_df = pd.DataFrame(venues)\n\n# define the column names\ndf2.columns = ['Neighborhood', 'Latitude', 'Longitude', 'VenueName', 'VenueLatitude', 'VenueLongitude', 'VenueCategory']",
            "execution_count": null,
            "outputs": []
        },
        {
            "metadata": {},
            "cell_type": "code",
            "source": "df2.head()",
            "execution_count": 27,
            "outputs": [
                {
                    "output_type": "execute_result",
                    "execution_count": 27,
                    "data": {
                        "text/plain": "  Neighborhood   Latitude  Longitude     VenueName  VenueLatitude  \\\n0      Antioch  36.162757  86.781661        Target      36.162887   \n1      Antioch  36.162757  86.781661        Subway      36.159744   \n2      Antioch  36.162757  86.781661  Jimmie Johns      36.162261   \n3      Antioch  36.162757  86.781661       Walmart      36.171882   \n4      Antioch  36.162757  86.781661     Walgreens      36.170876   \n\n   VenueLongitude VenueCategory  \n0       86.789656      Shopping  \n1       86.814555    Restaurant  \n2       86.799832    Restaurant  \n3       86.781663      Shopping  \n4       86.781661      Pharmacy  ",
                        "text/html": "<div>\n<style scoped>\n    .dataframe tbody tr th:only-of-type {\n        vertical-align: middle;\n    }\n\n    .dataframe tbody tr th {\n        vertical-align: top;\n    }\n\n    .dataframe thead th {\n        text-align: right;\n    }\n</style>\n<table border=\"1\" class=\"dataframe\">\n  <thead>\n    <tr style=\"text-align: right;\">\n      <th></th>\n      <th>Neighborhood</th>\n      <th>Latitude</th>\n      <th>Longitude</th>\n      <th>VenueName</th>\n      <th>VenueLatitude</th>\n      <th>VenueLongitude</th>\n      <th>VenueCategory</th>\n    </tr>\n  </thead>\n  <tbody>\n    <tr>\n      <th>0</th>\n      <td>Antioch</td>\n      <td>36.162757</td>\n      <td>86.781661</td>\n      <td>Target</td>\n      <td>36.162887</td>\n      <td>86.789656</td>\n      <td>Shopping</td>\n    </tr>\n    <tr>\n      <th>1</th>\n      <td>Antioch</td>\n      <td>36.162757</td>\n      <td>86.781661</td>\n      <td>Subway</td>\n      <td>36.159744</td>\n      <td>86.814555</td>\n      <td>Restaurant</td>\n    </tr>\n    <tr>\n      <th>2</th>\n      <td>Antioch</td>\n      <td>36.162757</td>\n      <td>86.781661</td>\n      <td>Jimmie Johns</td>\n      <td>36.162261</td>\n      <td>86.799832</td>\n      <td>Restaurant</td>\n    </tr>\n    <tr>\n      <th>3</th>\n      <td>Antioch</td>\n      <td>36.162757</td>\n      <td>86.781661</td>\n      <td>Walmart</td>\n      <td>36.171882</td>\n      <td>86.781663</td>\n      <td>Shopping</td>\n    </tr>\n    <tr>\n      <th>4</th>\n      <td>Antioch</td>\n      <td>36.162757</td>\n      <td>86.781661</td>\n      <td>Walgreens</td>\n      <td>36.170876</td>\n      <td>86.781661</td>\n      <td>Pharmacy</td>\n    </tr>\n  </tbody>\n</table>\n</div>"
                    },
                    "metadata": {}
                }
            ]
        },
        {
            "metadata": {},
            "cell_type": "markdown",
            "source": "##### Check for how many venues were returned for each neighborhood"
        },
        {
            "metadata": {},
            "cell_type": "code",
            "source": "df3 = df2.groupby([\"Neighborhood\"]).count()",
            "execution_count": null,
            "outputs": []
        },
        {
            "metadata": {},
            "cell_type": "code",
            "source": "df3",
            "execution_count": 29,
            "outputs": [
                {
                    "output_type": "execute_result",
                    "execution_count": 29,
                    "data": {
                        "text/plain": "         Neighborhood  Latitude  Longitude  VenueName  VenueLatitude  \\\n0             Antioch       100        100        100            100   \n1              Bakers       100        100        100            100   \n2             Bellvue       100        100        100            100   \n3            Donelson        89         89         89             89   \n4      East Nashville       100        100        100            100   \n5         Green Hills        79         79         79             79   \n6           The Gulch       100        100        100            100   \n7           Hermitage       100        100        100            100   \n8           Hillsboro       100        100        100            100   \n9            Hopewell        90         90         90             90   \n10          Inglewood        77         77         77             77   \n11            Joelton       100        100        100            100   \n12           Lakewood       100        100        100            100   \n13          Lockeland       100        100        100            100   \n14            Madison       100        100        100            100   \n15        Old Hickory       100        100        100            100   \n16             Pasquo        94         94         94             94   \n17  Richland-West End       100        100        100            100   \n18           Tusculum       100        100        100            100   \n19       Whites Creek       100        100        100            100   \n\n    VenueLongitude  VenueCategory  \n0              100            100  \n1              100            100  \n2              100            100  \n3               89             89  \n4              100            100  \n5               79             79  \n6              100            100  \n7              100            100  \n8              100            100  \n9               90             90  \n10              77             77  \n11             100            100  \n12             100            100  \n13             100            100  \n14             100            100  \n15             100            100  \n16              94             94  \n17             100            100  \n18             100            100  \n19             100            100  ",
                        "text/html": "<div>\n<style scoped>\n    .dataframe tbody tr th:only-of-type {\n        vertical-align: middle;\n    }\n\n    .dataframe tbody tr th {\n        vertical-align: top;\n    }\n\n    .dataframe thead th {\n        text-align: right;\n    }\n</style>\n<table border=\"1\" class=\"dataframe\">\n  <thead>\n    <tr style=\"text-align: right;\">\n      <th></th>\n      <th>Neighborhood</th>\n      <th>Latitude</th>\n      <th>Longitude</th>\n      <th>VenueName</th>\n      <th>VenueLatitude</th>\n      <th>VenueLongitude</th>\n      <th>VenueCategory</th>\n    </tr>\n  </thead>\n  <tbody>\n    <tr>\n      <th>0</th>\n      <td>Antioch</td>\n      <td>100</td>\n      <td>100</td>\n      <td>100</td>\n      <td>100</td>\n      <td>100</td>\n      <td>100</td>\n    </tr>\n    <tr>\n      <th>1</th>\n      <td>Bakers</td>\n      <td>100</td>\n      <td>100</td>\n      <td>100</td>\n      <td>100</td>\n      <td>100</td>\n      <td>100</td>\n    </tr>\n    <tr>\n      <th>2</th>\n      <td>Bellvue</td>\n      <td>100</td>\n      <td>100</td>\n      <td>100</td>\n      <td>100</td>\n      <td>100</td>\n      <td>100</td>\n    </tr>\n    <tr>\n      <th>3</th>\n      <td>Donelson</td>\n      <td>89</td>\n      <td>89</td>\n      <td>89</td>\n      <td>89</td>\n      <td>89</td>\n      <td>89</td>\n    </tr>\n    <tr>\n      <th>4</th>\n      <td>East Nashville</td>\n      <td>100</td>\n      <td>100</td>\n      <td>100</td>\n      <td>100</td>\n      <td>100</td>\n      <td>100</td>\n    </tr>\n    <tr>\n      <th>5</th>\n      <td>Green Hills</td>\n      <td>79</td>\n      <td>79</td>\n      <td>79</td>\n      <td>79</td>\n      <td>79</td>\n      <td>79</td>\n    </tr>\n    <tr>\n      <th>6</th>\n      <td>The Gulch</td>\n      <td>100</td>\n      <td>100</td>\n      <td>100</td>\n      <td>100</td>\n      <td>100</td>\n      <td>100</td>\n    </tr>\n    <tr>\n      <th>7</th>\n      <td>Hermitage</td>\n      <td>100</td>\n      <td>100</td>\n      <td>100</td>\n      <td>100</td>\n      <td>100</td>\n      <td>100</td>\n    </tr>\n    <tr>\n      <th>8</th>\n      <td>Hillsboro</td>\n      <td>100</td>\n      <td>100</td>\n      <td>100</td>\n      <td>100</td>\n      <td>100</td>\n      <td>100</td>\n    </tr>\n    <tr>\n      <th>9</th>\n      <td>Hopewell</td>\n      <td>90</td>\n      <td>90</td>\n      <td>90</td>\n      <td>90</td>\n      <td>90</td>\n      <td>90</td>\n    </tr>\n    <tr>\n      <th>10</th>\n      <td>Inglewood</td>\n      <td>77</td>\n      <td>77</td>\n      <td>77</td>\n      <td>77</td>\n      <td>77</td>\n      <td>77</td>\n    </tr>\n    <tr>\n      <th>11</th>\n      <td>Joelton</td>\n      <td>100</td>\n      <td>100</td>\n      <td>100</td>\n      <td>100</td>\n      <td>100</td>\n      <td>100</td>\n    </tr>\n    <tr>\n      <th>12</th>\n      <td>Lakewood</td>\n      <td>100</td>\n      <td>100</td>\n      <td>100</td>\n      <td>100</td>\n      <td>100</td>\n      <td>100</td>\n    </tr>\n    <tr>\n      <th>13</th>\n      <td>Lockeland</td>\n      <td>100</td>\n      <td>100</td>\n      <td>100</td>\n      <td>100</td>\n      <td>100</td>\n      <td>100</td>\n    </tr>\n    <tr>\n      <th>14</th>\n      <td>Madison</td>\n      <td>100</td>\n      <td>100</td>\n      <td>100</td>\n      <td>100</td>\n      <td>100</td>\n      <td>100</td>\n    </tr>\n    <tr>\n      <th>15</th>\n      <td>Old Hickory</td>\n      <td>100</td>\n      <td>100</td>\n      <td>100</td>\n      <td>100</td>\n      <td>100</td>\n      <td>100</td>\n    </tr>\n    <tr>\n      <th>16</th>\n      <td>Pasquo</td>\n      <td>94</td>\n      <td>94</td>\n      <td>94</td>\n      <td>94</td>\n      <td>94</td>\n      <td>94</td>\n    </tr>\n    <tr>\n      <th>17</th>\n      <td>Richland-West End</td>\n      <td>100</td>\n      <td>100</td>\n      <td>100</td>\n      <td>100</td>\n      <td>100</td>\n      <td>100</td>\n    </tr>\n    <tr>\n      <th>18</th>\n      <td>Tusculum</td>\n      <td>100</td>\n      <td>100</td>\n      <td>100</td>\n      <td>100</td>\n      <td>100</td>\n      <td>100</td>\n    </tr>\n    <tr>\n      <th>19</th>\n      <td>Whites Creek</td>\n      <td>100</td>\n      <td>100</td>\n      <td>100</td>\n      <td>100</td>\n      <td>100</td>\n      <td>100</td>\n    </tr>\n  </tbody>\n</table>\n</div>"
                    },
                    "metadata": {}
                }
            ]
        },
        {
            "metadata": {},
            "cell_type": "markdown",
            "source": "##### Unique Venue Categories"
        },
        {
            "metadata": {},
            "cell_type": "code",
            "source": "# print out the list of categories\nz = df2['VenueCategory'].unique()[:50]",
            "execution_count": null,
            "outputs": []
        },
        {
            "metadata": {},
            "cell_type": "code",
            "source": "z",
            "execution_count": 47,
            "outputs": [
                {
                    "output_type": "execute_result",
                    "execution_count": 47,
                    "data": {
                        "text/plain": "['Noodle House',\n 'Supplement Shop',\n 'Chinese Restaurant',\n 'Restaurant',\n 'Food Court',\n 'Vegetarian / Vegan Restaurant',\n 'Asian Restaurant',\n 'Dim Sum Restaurant',\n 'Snack Place',\n 'Other Great Outdoors',\n 'Seafood Restaurant',\n 'Spa',\n 'Food Truck',\n 'Caf\u00e9',\n 'Park',\n 'Chinese Breakfast Place',\n 'Indian Restaurant',\n 'Japanese Restaurant',\n 'Outlet Store',\n 'Convenience Store',\n 'Bubble Tea Shop',\n 'Dessert Shop',\n 'Farmers Market',\n 'Cantonese Restaurant',\n 'Malay Restaurant',\n 'Bakery',\n 'Hakka Restaurant',\n 'Supermarket',\n 'Steakhouse',\n 'Pet Store',\n 'Middle Eastern Restaurant',\n 'Badminton Court',\n 'Athletics & Sports',\n 'Hookah Bar',\n 'Winery',\n 'Burger Joint',\n 'Gym / Fitness Center',\n 'Bistro',\n 'Grocery Store',\n 'Halal Restaurant',\n 'College Bookstore',\n 'Flea Market',\n 'Vietnamese Restaurant',\n 'Italian Restaurant',\n 'Coffee Shop',\n 'Juice Bar',\n 'Korean Restaurant',\n 'Pizza Place',\n 'Ice Cream Shop',\n 'Massage Studio']"
                    },
                    "metadata": {}
                }
            ]
        },
        {
            "metadata": {},
            "cell_type": "markdown",
            "source": "### Analyze Each Neighborhood"
        },
        {
            "metadata": {},
            "cell_type": "code",
            "source": "# one hot encoding\ndf1_onehot = pd.get_dummies(venues_df[['VenueCategory']], prefix=\"\", prefix_sep=\"\")\n\n# add neighborhood column back to dataframe\ndf1_onehot['Neighborhoods'] = df3['Neighborhood'] \n\n# move neighborhood column to the first column\nfixed_columns = [df1_onehot.columns[-1]] + list(df1_onehot.columns[:-1])\ndf4 = df_onehot[fixed_columns]",
            "execution_count": null,
            "outputs": []
        },
        {
            "metadata": {},
            "cell_type": "code",
            "source": "df4.head()",
            "execution_count": 50,
            "outputs": [
                {
                    "output_type": "execute_result",
                    "execution_count": 50,
                    "data": {
                        "text/plain": "  Neighborhoods  Accessories Store  Adult Boutique  Afghan Restaurant  \\\n0       Antioch                  0               0                  0   \n1       Antioch                  0               0                  0   \n2       Antioch                  0               0                  0   \n3       Antioch                  0               0                  0   \n4       Antioch                  0               0                  0   \n\n   African Restaurant  Airport  Airport Service  Airport Terminal  \\\n0                   0        0                0                 0   \n1                   0        0                0                 0   \n2                   0        0                0                 0   \n3                   0        0                0                 0   \n4                   0        0                0                 0   \n\n   American Restaurant  Aquarium  Arcade  Art Gallery  Art Museum  \\\n0                    0         0       0            0           0   \n1                    0         0       0            0           0   \n2                    0         0       0            0           0   \n3                    0         0       0            0           0   \n4                    0         0       0            0           0   \n\n   Arts & Crafts Store  Asian Restaurant  Athletics & Sports  Auditorium  \\\n0                    0                 0                   0           0   \n1                    0                 0                   0           0   \n2                    0                 0                   0           0   \n3                    0                 0                   0           0   \n4                    0                 0                   0           0   \n\n   Auto Dealership  Auto Garage  Auto Workshop  Automotive Shop  BBQ Joint  \\\n0                0            0              0                0          0   \n1                0            0              0                0          0   \n2                0            0              0                0          0   \n3                0            0              0                0          0   \n4                0            0              0                0          0   \n\n   Badminton Court  Bagel Shop  Bakery  Bar  Baseball Field  Basketball Court  \\\n0                0           0       0    0               0                 0   \n1                0           0       0    0               0                 0   \n2                0           0       0    0               0                 0   \n3                0           0       0    0               0                 0   \n4                0           0       0    0               0                 0   \n\n   Beach  Bed & Breakfast  Beer Bar  Beer Garden  Belgian Restaurant  Bistro  \\\n0      0                0         0            0                   0       0   \n1      0                0         0            0                   0       0   \n2      0                0         0            0                   0       0   \n3      0                0         0            0                   0       0   \n4      0                0         0            0                   0       0   \n\n   Board Shop  Boat or Ferry  Bookstore  Botanical Garden  Boutique  \\\n0           0              0          0                 0         0   \n1           0              0          0                 0         0   \n2           0              0          0                 0         0   \n3           0              0          0                 0         0   \n4           0              0          0                 0         0   \n\n   Bowling Alley  Breakfast Spot  Brewery  Bridal Shop  Bubble Tea Shop  \\\n0              0               0        0            0                0   \n1              0               0        0            0                0   \n2              0               0        0            0                0   \n3              0               0        0            0                0   \n4              0               0        0            0                0   \n\n   Buffet  Building  Burger Joint  Bus Station  Business Service  Butcher  \\\n0       0         0             0            0                 0        0   \n1       0         0             0            0                 0        0   \n2       0         0             0            0                 0        0   \n3       0         0             0            0                 0        0   \n4       0         0             0            0                 0        0   \n\n   Cafeteria  Caf\u00e9  Campground  Candy Store  Cantonese Restaurant  Casino  \\\n0          0     0           0            0                     0       0   \n1          0     0           0            0                     0       0   \n2          0     0           0            0                     0       0   \n3          0     0           0            0                     0       0   \n4          0     0           0            0                     0       0   \n\n   Chettinad Restaurant  Chinese Breakfast Place  Chinese Restaurant  Circus  \\\n0                     0                        0                   0       0   \n1                     0                        0                   0       0   \n2                     0                        0                   0       0   \n3                     0                        0                   0       0   \n4                     0                        0                   0       0   \n\n   Clothing Store  Club House  Cocktail Bar  Coffee Shop  College Bookstore  \\\n0               0           0             0            0                  0   \n1               0           0             0            0                  0   \n2               0           0             0            0                  0   \n3               0           0             0            0                  0   \n4               0           0             0            0                  0   \n\n   Comedy Club  Comfort Food Restaurant  Concert Hall  Convenience Store  \\\n0            0                        0             0                  0   \n1            0                        0             0                  0   \n2            0                        0             0                  0   \n3            0                        0             0                  0   \n4            0                        0             0                  0   \n\n   Convention Center  Cosmetics Shop  Cupcake Shop  Cycle Studio  \\\n0                  0               0             0             0   \n1                  0               0             0             0   \n2                  0               0             0             0   \n3                  0               0             0             0   \n4                  0               0             0             0   \n\n   Dance Studio  Deli / Bodega  Department Store  Design Studio  Dessert Shop  \\\n0             0              0                 0              0             0   \n1             0              0                 0              0             0   \n2             0              0                 0              0             0   \n3             0              0                 0              0             0   \n4             0              0                 0              0             0   \n\n   Dim Sum Restaurant  Diner  Dive Bar  Dive Shop  Dog Run  Donut Shop  \\\n0                   0      0         0          0        0           0   \n1                   0      0         0          0        0           0   \n2                   0      0         0          0        0           0   \n3                   0      0         0          0        0           0   \n4                   0      0         0          0        0           0   \n\n   Dumpling Restaurant  Eastern European Restaurant  Electronics Store  \\\n0                    0                            0                  0   \n1                    0                            0                  0   \n2                    0                            0                  0   \n3                    0                            0                  0   \n4                    0                            0                  0   \n\n   Event Space  Exhibit  Falafel Restaurant  Farm  Farmers Market  \\\n0            0        0                   0     0               0   \n1            0        0                   0     0               0   \n2            0        0                   0     0               0   \n3            0        0                   0     0               0   \n4            0        0                   0     0               0   \n\n   Fast Food Restaurant  Field  Fish & Chips Shop  Fish Market  Fishing Store  \\\n0                     0      0                  0            0              0   \n1                     0      0                  0            0              0   \n2                     0      0                  0            0              0   \n3                     0      0                  0            0              0   \n4                     0      0                  0            0              0   \n\n   Flea Market  Flower Shop  Food  Food & Drink Shop  Food Court  Food Stand  \\\n0            0            0     0                  0           0           0   \n1            0            0     0                  0           0           0   \n2            0            0     0                  0           0           0   \n3            0            0     0                  0           0           0   \n4            0            0     0                  0           0           0   \n\n   Food Truck  Fountain  Frame Store  French Restaurant  Fried Chicken Joint  \\\n0           0         0            0                  0                    0   \n1           0         0            0                  0                    0   \n2           0         0            0                  0                    0   \n3           0         0            0                  0                    0   \n4           0         0            0                  0                    0   \n\n   Frozen Yogurt Shop  Fruit & Vegetable Store  Furniture / Home Store  \\\n0                   0                        0                       0   \n1                   0                        0                       0   \n2                   0                        0                       0   \n3                   0                        0                       0   \n4                   0                        0                       0   \n\n   Gaming Cafe  Garden  Garden Center  Gas Station  Gastropub  Gay Bar  \\\n0            0       0              0            0          0        0   \n1            0       0              0            0          0        0   \n2            0       0              0            0          0        0   \n3            0       0              0            0          0        0   \n4            0       0              0            0          0        0   \n\n   General Entertainment  German Restaurant  Gift Shop  Golf Course  \\\n0                      0                  0          0            0   \n1                      0                  0          0            0   \n2                      0                  0          0            0   \n3                      0                  0          0            0   \n4                      0                  0          0            0   \n\n   Gourmet Shop  Government Building  Grilled Meat Restaurant  Grocery Store  \\\n0             0                    0                        0              0   \n1             0                    0                        0              0   \n2             0                    0                        0              0   \n3             0                    0                        0              0   \n4             0                    0                        0              0   \n\n   Gym  Gym / Fitness Center  Gym Pool  Hainan Restaurant  Hakka Restaurant  \\\n0    0                     0         0                  0                 0   \n1    0                     0         0                  0                 0   \n2    0                     0         0                  0                 0   \n3    0                     0         0                  0                 0   \n4    0                     0         0                  0                 0   \n\n   Halal Restaurant  Harbor / Marina  Hawaiian Restaurant  \\\n0                 0                0                    0   \n1                 0                0                    0   \n2                 0                0                    0   \n3                 0                0                    0   \n4                 0                0                    0   \n\n   Health & Beauty Service  High School  Himalayan Restaurant  Historic Site  \\\n0                        0            0                     0              0   \n1                        0            0                     0              0   \n2                        0            0                     0              0   \n3                        0            0                     0              0   \n4                        0            0                     0              0   \n\n   History Museum  Hockey Arena  Hong Kong Restaurant  Hookah Bar  Hostel  \\\n0               0             0                     0           0       0   \n1               0             0                     0           0       0   \n2               0             0                     0           0       0   \n3               0             0                     0           0       0   \n4               0             0                     0           0       0   \n\n   Hot Dog Joint  Hot Spring  Hotel  Hotel Bar  Hotel Pool  Hotpot Restaurant  \\\n0              0           0      0          0           0                  0   \n1              0           0      0          0           0                  0   \n2              0           0      0          0           0                  0   \n3              0           0      0          0           0                  0   \n4              0           0      0          0           0                  0   \n\n   Housing Development  Hunan Restaurant  IT Services  Ice Cream Shop  \\\n0                    0                 0            0               0   \n1                    0                 0            0               0   \n2                    0                 0            0               0   \n3                    0                 0            0               0   \n4                    0                 0            0               0   \n\n   Indian Restaurant  Indonesian Restaurant  Italian Restaurant  \\\n0                  0                      0                   0   \n1                  0                      0                   0   \n2                  0                      0                   0   \n3                  0                      0                   0   \n4                  0                      0                   0   \n\n   Japanese Curry Restaurant  Japanese Restaurant  Jazz Club  Jewelry Store  \\\n0                          0                    0          0              0   \n1                          0                    0          0              0   \n2                          0                    0          0              0   \n3                          0                    0          0              0   \n4                          0                    0          0              0   \n\n   Juice Bar  Karaoke Bar  Kebab Restaurant  Kids Store  Korean Restaurant  \\\n0          0            0                 0           0                  0   \n1          0            0                 0           0                  0   \n2          0            0                 0           0                  0   \n3          0            0                 0           0                  0   \n4          0            0                 0           0                  0   \n\n   Kushikatsu Restaurant  Lake  Latin American Restaurant  \\\n0                      0     0                          0   \n1                      0     0                          0   \n2                      0     0                          0   \n3                      0     0                          0   \n4                      0     0                          0   \n\n   Leather Goods Store  Light Rail Station  Lingerie Store  Lounge  \\\n0                    0                   0               0       0   \n1                    0                   0               0       0   \n2                    0                   0               0       0   \n3                    0                   0               0       0   \n4                    0                   0               0       0   \n\n   Malay Restaurant  Market  Martial Arts Dojo  Massage Studio  \\\n0                 0       0                  0               0   \n1                 0       0                  0               0   \n2                 0       0                  0               0   \n3                 0       0                  0               0   \n4                 0       0                  0               0   \n\n   Medical Center  Mediterranean Restaurant  Men's Store  Mexican Restaurant  \\\n0               0                         0            0                   0   \n1               0                         0            0                   0   \n2               0                         0            0                   0   \n3               0                         0            0                   0   \n4               0                         0            0                   0   \n\n   Middle Eastern Restaurant  Miscellaneous Shop  Mobile Phone Shop  \\\n0                          0                   0                  0   \n1                          0                   0                  0   \n2                          0                   0                  0   \n3                          0                   0                  0   \n4                          0                   0                  0   \n\n   Modern European Restaurant  Monument / Landmark  Moroccan Restaurant  \\\n0                           0                    0                    0   \n1                           0                    0                    0   \n2                           0                    0                    0   \n3                           0                    0                    0   \n4                           0                    0                    0   \n\n   Mosque  Motel  Motorcycle Shop  Mountain  Movie Theater  Multiplex  Museum  \\\n0       0      0                0         0              0          0       0   \n1       0      0                0         0              0          0       0   \n2       0      0                0         0              0          0       0   \n3       0      0                0         0              0          0       0   \n4       0      0                0         0              0          0       0   \n\n   Music Store  Music Venue  Nail Salon  Neighborhood  Night Market  \\\n0            0            0           0             0             0   \n1            0            0           0             0             0   \n2            0            0           0             0             0   \n3            0            0           0             0             0   \n4            0            0           0             0             0   \n\n   Nightclub  Noodle House  North Indian Restaurant  Office  Optical Shop  \\\n0          0             0                        0       0             0   \n1          0             0                        0       0             0   \n2          0             0                        0       0             0   \n3          0             0                        0       0             0   \n4          0             0                        0       0             0   \n\n   Other Great Outdoors  Other Nightlife  Outlet Store  Pakistani Restaurant  \\\n0                     0                0             0                     0   \n1                     0                0             0                     0   \n2                     0                0             0                     0   \n3                     0                0             0                     0   \n4                     0                0             0                     0   \n\n   Palace  Paper / Office Supplies Store  Park  Performing Arts Venue  \\\n0       0                              0     0                      0   \n1       0                              0     0                      0   \n2       0                              0     0                      0   \n3       0                              0     0                      0   \n4       0                              0     0                      0   \n\n   Pet Store  Pharmacy  Piano Bar  Pie Shop  Pizza Place  Playground  Plaza  \\\n0          0         0          0         0            0           0      0   \n1          0         0          0         0            0           0      0   \n2          0         0          0         0            0           0      0   \n3          0         0          0         0            0           0      0   \n4          0         0          0         0            0           0      0   \n\n   Poke Place  Pool  Pool Hall  Pub  Public Art  Racetrack  Ramen Restaurant  \\\n0           0     0          0    0           0          0                 0   \n1           0     0          0    0           0          0                 0   \n2           0     0          0    0           0          0                 0   \n3           0     0          0    0           0          0                 0   \n4           0     0          0    0           0          0                 0   \n\n   Record Shop  Residential Building (Apartment / Condo)  Resort  Rest Area  \\\n0            0                                         0       0          0   \n1            0                                         0       0          0   \n2            0                                         0       0          0   \n3            0                                         0       0          0   \n4            0                                         0       0          0   \n\n   Restaurant  Road  Rock Climbing Spot  Rock Club  Sake Bar  Salad Place  \\\n0           0     0                   0          0         0            0   \n1           0     0                   0          0         0            0   \n2           0     0                   0          0         0            0   \n3           0     0                   0          0         0            0   \n4           0     0                   0          0         0            0   \n\n   Salon / Barbershop  Sandwich Place  Satay Restaurant  \\\n0                   0               0                 0   \n1                   0               0                 0   \n2                   0               0                 0   \n3                   0               0                 0   \n4                   0               0                 0   \n\n   Scandinavian Restaurant  Scenic Lookout  Science Museum  \\\n0                        0               0               0   \n1                        0               0               0   \n2                        0               0               0   \n3                        0               0               0   \n4                        0               0               0   \n\n   Seafood Restaurant  Shabu-Shabu Restaurant  Shoe Store  Shop & Service  \\\n0                   0                       0           0               0   \n1                   0                       0           0               0   \n2                   0                       0           0               0   \n3                   0                       0           0               0   \n4                   0                       0           0               0   \n\n   Shopping Mall  Skate Park  Ski Area  Ski Lodge  Smoke Shop  Smoothie Shop  \\\n0              0           0         0          0           0              0   \n1              0           0         0          0           0              0   \n2              0           0         0          0           0              0   \n3              0           0         0          0           0              0   \n4              0           0         0          0           0              0   \n\n   Snack Place  Soccer Field  Soccer Stadium  Soup Place  \\\n0            0             0               0           0   \n1            0             0               0           0   \n2            0             0               0           0   \n3            0             0               0           0   \n4            0             0               0           0   \n\n   South American Restaurant  South Indian Restaurant  Spa  \\\n0                          0                        0    0   \n1                          0                        0    0   \n2                          0                        0    0   \n3                          0                        0    0   \n4                          0                        0    0   \n\n   Spanish Restaurant  Speakeasy  Spiritual Center  Sporting Goods Shop  \\\n0                   0          0                 0                    0   \n1                   0          0                 0                    0   \n2                   0          0                 0                    0   \n3                   0          0                 0                    0   \n4                   0          0                 0                    0   \n\n   Sports Bar  Sports Club  Stadium  Stationery Store  Steakhouse  \\\n0           0            0        0                 0           0   \n1           0            0        0                 0           0   \n2           0            0        0                 0           0   \n3           0            0        0                 0           0   \n4           0            0        0                 0           0   \n\n   Street Food Gathering  Supermarket  Supplement Shop  Surf Spot  \\\n0                      0            0                0          0   \n1                      0            0                0          0   \n2                      0            0                0          0   \n3                      0            0                0          0   \n4                      0            0                0          0   \n\n   Sushi Restaurant  Taiwanese Restaurant  Tapas Restaurant  Tattoo Parlor  \\\n0                 0                     0                 0              0   \n1                 0                     0                 0              0   \n2                 0                     0                 0              0   \n3                 0                     0                 0              0   \n4                 0                     0                 0              0   \n\n   Tea Room  Temple  Tennis Court  Tex-Mex Restaurant  Thai Restaurant  \\\n0         0       0             0                   0                0   \n1         0       0             0                   0                0   \n2         0       0             0                   0                0   \n3         0       0             0                   0                0   \n4         0       0             0                   0                0   \n\n   Theater  Theme Restaurant  Thrift / Vintage Store  Toll Plaza  \\\n0        0                 0                       0           0   \n1        0                 0                       0           0   \n2        0                 0                       0           0   \n3        0                 0                       0           0   \n4        0                 0                       0           0   \n\n   Tourist Information Center  Toy / Game Store  Track  Track Stadium  Trail  \\\n0                           0                 0      0              0      0   \n1                           0                 0      0              0      0   \n2                           0                 0      0              0      0   \n3                           0                 0      0              0      0   \n4                           0                 0      0              0      0   \n\n   Train Station  Tunnel  Turkish Restaurant  Udon Restaurant  Vape Store  \\\n0              0       0                   0                0           0   \n1              0       0                   0                0           0   \n2              0       0                   0                0           0   \n3              0       0                   0                0           0   \n4              0       0                   0                0           0   \n\n   Vegetarian / Vegan Restaurant  Video Game Store  Vietnamese Restaurant  \\\n0                              0                 0                      0   \n1                              0                 0                      0   \n2                              0                 0                      0   \n3                              0                 0                      0   \n4                              0                 0                      0   \n\n   Volleyball Court  Warehouse Store  Whisky Bar  Wine Bar  Winery  \\\n0                 0                0           0         0       0   \n1                 0                0           0         0       0   \n2                 0                0           0         0       0   \n3                 0                0           0         0       0   \n4                 0                0           0         0       0   \n\n   Wings Joint  Women's Store  Yoga Studio  Zoo  \n0            0              0            0    0  \n1            0              0            0    0  \n2            0              0            0    0  \n3            0              0            0    0  \n4            0              0            0    0  ",
                        "text/html": "<div>\n<style scoped>\n    .dataframe tbody tr th:only-of-type {\n        vertical-align: middle;\n    }\n\n    .dataframe tbody tr th {\n        vertical-align: top;\n    }\n\n    .dataframe thead th {\n        text-align: right;\n    }\n</style>\n<table border=\"1\" class=\"dataframe\">\n  <thead>\n    <tr style=\"text-align: right;\">\n      <th></th>\n      <th>Neighborhoods</th>\n      <th>Accessories Store</th>\n      <th>Adult Boutique</th>\n      <th>Afghan Restaurant</th>\n      <th>African Restaurant</th>\n      <th>Airport</th>\n      <th>Airport Service</th>\n      <th>Airport Terminal</th>\n      <th>American Restaurant</th>\n      <th>Aquarium</th>\n      <th>Arcade</th>\n      <th>Art Gallery</th>\n      <th>Art Museum</th>\n      <th>Arts &amp; Crafts Store</th>\n      <th>Asian Restaurant</th>\n      <th>Athletics &amp; Sports</th>\n      <th>Auditorium</th>\n      <th>Auto Dealership</th>\n      <th>Auto Garage</th>\n      <th>Auto Workshop</th>\n      <th>Automotive Shop</th>\n      <th>BBQ Joint</th>\n      <th>Badminton Court</th>\n      <th>Bagel Shop</th>\n      <th>Bakery</th>\n      <th>Bar</th>\n      <th>Baseball Field</th>\n      <th>Basketball Court</th>\n      <th>Beach</th>\n      <th>Bed &amp; Breakfast</th>\n      <th>Beer Bar</th>\n      <th>Beer Garden</th>\n      <th>Belgian Restaurant</th>\n      <th>Bistro</th>\n      <th>Board Shop</th>\n      <th>Boat or Ferry</th>\n      <th>Bookstore</th>\n      <th>Botanical Garden</th>\n      <th>Boutique</th>\n      <th>Bowling Alley</th>\n      <th>Breakfast Spot</th>\n      <th>Brewery</th>\n      <th>Bridal Shop</th>\n      <th>Bubble Tea Shop</th>\n      <th>Buffet</th>\n      <th>Building</th>\n      <th>Burger Joint</th>\n      <th>Bus Station</th>\n      <th>Business Service</th>\n      <th>Butcher</th>\n      <th>Cafeteria</th>\n      <th>Caf\u00e9</th>\n      <th>Campground</th>\n      <th>Candy Store</th>\n      <th>Cantonese Restaurant</th>\n      <th>Casino</th>\n      <th>Chettinad Restaurant</th>\n      <th>Chinese Breakfast Place</th>\n      <th>Chinese Restaurant</th>\n      <th>Circus</th>\n      <th>Clothing Store</th>\n      <th>Club House</th>\n      <th>Cocktail Bar</th>\n      <th>Coffee Shop</th>\n      <th>College Bookstore</th>\n      <th>Comedy Club</th>\n      <th>Comfort Food Restaurant</th>\n      <th>Concert Hall</th>\n      <th>Convenience Store</th>\n      <th>Convention Center</th>\n      <th>Cosmetics Shop</th>\n      <th>Cupcake Shop</th>\n      <th>Cycle Studio</th>\n      <th>Dance Studio</th>\n      <th>Deli / Bodega</th>\n      <th>Department Store</th>\n      <th>Design Studio</th>\n      <th>Dessert Shop</th>\n      <th>Dim Sum Restaurant</th>\n      <th>Diner</th>\n      <th>Dive Bar</th>\n      <th>Dive Shop</th>\n      <th>Dog Run</th>\n      <th>Donut Shop</th>\n      <th>Dumpling Restaurant</th>\n      <th>Eastern European Restaurant</th>\n      <th>Electronics Store</th>\n      <th>Event Space</th>\n      <th>Exhibit</th>\n      <th>Falafel Restaurant</th>\n      <th>Farm</th>\n      <th>Farmers Market</th>\n      <th>Fast Food Restaurant</th>\n      <th>Field</th>\n      <th>Fish &amp; Chips Shop</th>\n      <th>Fish Market</th>\n      <th>Fishing Store</th>\n      <th>Flea Market</th>\n      <th>Flower Shop</th>\n      <th>Food</th>\n      <th>Food &amp; Drink Shop</th>\n      <th>Food Court</th>\n      <th>Food Stand</th>\n      <th>Food Truck</th>\n      <th>Fountain</th>\n      <th>Frame Store</th>\n      <th>French Restaurant</th>\n      <th>Fried Chicken Joint</th>\n      <th>Frozen Yogurt Shop</th>\n      <th>Fruit &amp; Vegetable Store</th>\n      <th>Furniture / Home Store</th>\n      <th>Gaming Cafe</th>\n      <th>Garden</th>\n      <th>Garden Center</th>\n      <th>Gas Station</th>\n      <th>Gastropub</th>\n      <th>Gay Bar</th>\n      <th>General Entertainment</th>\n      <th>German Restaurant</th>\n      <th>Gift Shop</th>\n      <th>Golf Course</th>\n      <th>Gourmet Shop</th>\n      <th>Government Building</th>\n      <th>Grilled Meat Restaurant</th>\n      <th>Grocery Store</th>\n      <th>Gym</th>\n      <th>Gym / Fitness Center</th>\n      <th>Gym Pool</th>\n      <th>Hainan Restaurant</th>\n      <th>Hakka Restaurant</th>\n      <th>Halal Restaurant</th>\n      <th>Harbor / Marina</th>\n      <th>Hawaiian Restaurant</th>\n      <th>Health &amp; Beauty Service</th>\n      <th>High School</th>\n      <th>Himalayan Restaurant</th>\n      <th>Historic Site</th>\n      <th>History Museum</th>\n      <th>Hockey Arena</th>\n      <th>Hong Kong Restaurant</th>\n      <th>Hookah Bar</th>\n      <th>Hostel</th>\n      <th>Hot Dog Joint</th>\n      <th>Hot Spring</th>\n      <th>Hotel</th>\n      <th>Hotel Bar</th>\n      <th>Hotel Pool</th>\n      <th>Hotpot Restaurant</th>\n      <th>Housing Development</th>\n      <th>Hunan Restaurant</th>\n      <th>IT Services</th>\n      <th>Ice Cream Shop</th>\n      <th>Indian Restaurant</th>\n      <th>Indonesian Restaurant</th>\n      <th>Italian Restaurant</th>\n      <th>Japanese Curry Restaurant</th>\n      <th>Japanese Restaurant</th>\n      <th>Jazz Club</th>\n      <th>Jewelry Store</th>\n      <th>Juice Bar</th>\n      <th>Karaoke Bar</th>\n      <th>Kebab Restaurant</th>\n      <th>Kids Store</th>\n      <th>Korean Restaurant</th>\n      <th>Kushikatsu Restaurant</th>\n      <th>Lake</th>\n      <th>Latin American Restaurant</th>\n      <th>Leather Goods Store</th>\n      <th>Light Rail Station</th>\n      <th>Lingerie Store</th>\n      <th>Lounge</th>\n      <th>Malay Restaurant</th>\n      <th>Market</th>\n      <th>Martial Arts Dojo</th>\n      <th>Massage Studio</th>\n      <th>Medical Center</th>\n      <th>Mediterranean Restaurant</th>\n      <th>Men's Store</th>\n      <th>Mexican Restaurant</th>\n      <th>Middle Eastern Restaurant</th>\n      <th>Miscellaneous Shop</th>\n      <th>Mobile Phone Shop</th>\n      <th>Modern European Restaurant</th>\n      <th>Monument / Landmark</th>\n      <th>Moroccan Restaurant</th>\n      <th>Mosque</th>\n      <th>Motel</th>\n      <th>Motorcycle Shop</th>\n      <th>Mountain</th>\n      <th>Movie Theater</th>\n      <th>Multiplex</th>\n      <th>Museum</th>\n      <th>Music Store</th>\n      <th>Music Venue</th>\n      <th>Nail Salon</th>\n      <th>Neighborhood</th>\n      <th>Night Market</th>\n      <th>Nightclub</th>\n      <th>Noodle House</th>\n      <th>North Indian Restaurant</th>\n      <th>Office</th>\n      <th>Optical Shop</th>\n      <th>Other Great Outdoors</th>\n      <th>Other Nightlife</th>\n      <th>Outlet Store</th>\n      <th>Pakistani Restaurant</th>\n      <th>Palace</th>\n      <th>Paper / Office Supplies Store</th>\n      <th>Park</th>\n      <th>Performing Arts Venue</th>\n      <th>Pet Store</th>\n      <th>Pharmacy</th>\n      <th>Piano Bar</th>\n      <th>Pie Shop</th>\n      <th>Pizza Place</th>\n      <th>Playground</th>\n      <th>Plaza</th>\n      <th>Poke Place</th>\n      <th>Pool</th>\n      <th>Pool Hall</th>\n      <th>Pub</th>\n      <th>Public Art</th>\n      <th>Racetrack</th>\n      <th>Ramen Restaurant</th>\n      <th>Record Shop</th>\n      <th>Residential Building (Apartment / Condo)</th>\n      <th>Resort</th>\n      <th>Rest Area</th>\n      <th>Restaurant</th>\n      <th>Road</th>\n      <th>Rock Climbing Spot</th>\n      <th>Rock Club</th>\n      <th>Sake Bar</th>\n      <th>Salad Place</th>\n      <th>Salon / Barbershop</th>\n      <th>Sandwich Place</th>\n      <th>Satay Restaurant</th>\n      <th>Scandinavian Restaurant</th>\n      <th>Scenic Lookout</th>\n      <th>Science Museum</th>\n      <th>Seafood Restaurant</th>\n      <th>Shabu-Shabu Restaurant</th>\n      <th>Shoe Store</th>\n      <th>Shop &amp; Service</th>\n      <th>Shopping Mall</th>\n      <th>Skate Park</th>\n      <th>Ski Area</th>\n      <th>Ski Lodge</th>\n      <th>Smoke Shop</th>\n      <th>Smoothie Shop</th>\n      <th>Snack Place</th>\n      <th>Soccer Field</th>\n      <th>Soccer Stadium</th>\n      <th>Soup Place</th>\n      <th>South American Restaurant</th>\n      <th>South Indian Restaurant</th>\n      <th>Spa</th>\n      <th>Spanish Restaurant</th>\n      <th>Speakeasy</th>\n      <th>Spiritual Center</th>\n      <th>Sporting Goods Shop</th>\n      <th>Sports Bar</th>\n      <th>Sports Club</th>\n      <th>Stadium</th>\n      <th>Stationery Store</th>\n      <th>Steakhouse</th>\n      <th>Street Food Gathering</th>\n      <th>Supermarket</th>\n      <th>Supplement Shop</th>\n      <th>Surf Spot</th>\n      <th>Sushi Restaurant</th>\n      <th>Taiwanese Restaurant</th>\n      <th>Tapas Restaurant</th>\n      <th>Tattoo Parlor</th>\n      <th>Tea Room</th>\n      <th>Temple</th>\n      <th>Tennis Court</th>\n      <th>Tex-Mex Restaurant</th>\n      <th>Thai Restaurant</th>\n      <th>Theater</th>\n      <th>Theme Restaurant</th>\n      <th>Thrift / Vintage Store</th>\n      <th>Toll Plaza</th>\n      <th>Tourist Information Center</th>\n      <th>Toy / Game Store</th>\n      <th>Track</th>\n      <th>Track Stadium</th>\n      <th>Trail</th>\n      <th>Train Station</th>\n      <th>Tunnel</th>\n      <th>Turkish Restaurant</th>\n      <th>Udon Restaurant</th>\n      <th>Vape Store</th>\n      <th>Vegetarian / Vegan Restaurant</th>\n      <th>Video Game Store</th>\n      <th>Vietnamese Restaurant</th>\n      <th>Volleyball Court</th>\n      <th>Warehouse Store</th>\n      <th>Whisky Bar</th>\n      <th>Wine Bar</th>\n      <th>Winery</th>\n      <th>Wings Joint</th>\n      <th>Women's Store</th>\n      <th>Yoga Studio</th>\n      <th>Zoo</th>\n    </tr>\n  </thead>\n  <tbody>\n    <tr>\n      <th>0</th>\n      <td>Antioch</td>\n      <td>0</td>\n      <td>0</td>\n      <td>0</td>\n      <td>0</td>\n      <td>0</td>\n      <td>0</td>\n      <td>0</td>\n      <td>0</td>\n      <td>0</td>\n      <td>0</td>\n      <td>0</td>\n      <td>0</td>\n      <td>0</td>\n      <td>0</td>\n      <td>0</td>\n      <td>0</td>\n      <td>0</td>\n      <td>0</td>\n      <td>0</td>\n      <td>0</td>\n      <td>0</td>\n      <td>0</td>\n      <td>0</td>\n      <td>0</td>\n      <td>0</td>\n      <td>0</td>\n      <td>0</td>\n      <td>0</td>\n      <td>0</td>\n      <td>0</td>\n      <td>0</td>\n      <td>0</td>\n      <td>0</td>\n      <td>0</td>\n      <td>0</td>\n      <td>0</td>\n      <td>0</td>\n      <td>0</td>\n      <td>0</td>\n      <td>0</td>\n      <td>0</td>\n      <td>0</td>\n      <td>0</td>\n      <td>0</td>\n      <td>0</td>\n      <td>0</td>\n      <td>0</td>\n      <td>0</td>\n      <td>0</td>\n      <td>0</td>\n      <td>0</td>\n      <td>0</td>\n      <td>0</td>\n      <td>0</td>\n      <td>0</td>\n      <td>0</td>\n      <td>0</td>\n      <td>0</td>\n      <td>0</td>\n      <td>0</td>\n      <td>0</td>\n      <td>0</td>\n      <td>0</td>\n      <td>0</td>\n      <td>0</td>\n      <td>0</td>\n      <td>0</td>\n      <td>0</td>\n      <td>0</td>\n      <td>0</td>\n      <td>0</td>\n      <td>0</td>\n      <td>0</td>\n      <td>0</td>\n      <td>0</td>\n      <td>0</td>\n      <td>0</td>\n      <td>0</td>\n      <td>0</td>\n      <td>0</td>\n      <td>0</td>\n      <td>0</td>\n      <td>0</td>\n      <td>0</td>\n      <td>0</td>\n      <td>0</td>\n      <td>0</td>\n      <td>0</td>\n      <td>0</td>\n      <td>0</td>\n      <td>0</td>\n      <td>0</td>\n      <td>0</td>\n      <td>0</td>\n      <td>0</td>\n      <td>0</td>\n      <td>0</td>\n      <td>0</td>\n      <td>0</td>\n      <td>0</td>\n      <td>0</td>\n      <td>0</td>\n      <td>0</td>\n      <td>0</td>\n      <td>0</td>\n      <td>0</td>\n      <td>0</td>\n      <td>0</td>\n      <td>0</td>\n      <td>0</td>\n      <td>0</td>\n      <td>0</td>\n      <td>0</td>\n      <td>0</td>\n      <td>0</td>\n      <td>0</td>\n      <td>0</td>\n      <td>0</td>\n      <td>0</td>\n      <td>0</td>\n      <td>0</td>\n      <td>0</td>\n      <td>0</td>\n      <td>0</td>\n      <td>0</td>\n      <td>0</td>\n      <td>0</td>\n      <td>0</td>\n      <td>0</td>\n      <td>0</td>\n      <td>0</td>\n      <td>0</td>\n      <td>0</td>\n      <td>0</td>\n      <td>0</td>\n      <td>0</td>\n      <td>0</td>\n      <td>0</td>\n      <td>0</td>\n      <td>0</td>\n      <td>0</td>\n      <td>0</td>\n      <td>0</td>\n      <td>0</td>\n      <td>0</td>\n      <td>0</td>\n      <td>0</td>\n      <td>0</td>\n      <td>0</td>\n      <td>0</td>\n      <td>0</td>\n      <td>0</td>\n      <td>0</td>\n      <td>0</td>\n      <td>0</td>\n      <td>0</td>\n      <td>0</td>\n      <td>0</td>\n      <td>0</td>\n      <td>0</td>\n      <td>0</td>\n      <td>0</td>\n      <td>0</td>\n      <td>0</td>\n      <td>0</td>\n      <td>0</td>\n      <td>0</td>\n      <td>0</td>\n      <td>0</td>\n      <td>0</td>\n      <td>0</td>\n      <td>0</td>\n      <td>0</td>\n      <td>0</td>\n      <td>0</td>\n      <td>0</td>\n      <td>0</td>\n      <td>0</td>\n      <td>0</td>\n      <td>0</td>\n      <td>0</td>\n      <td>0</td>\n      <td>0</td>\n      <td>0</td>\n      <td>0</td>\n      <td>0</td>\n      <td>0</td>\n      <td>0</td>\n      <td>0</td>\n      <td>0</td>\n      <td>0</td>\n      <td>0</td>\n      <td>0</td>\n      <td>0</td>\n      <td>0</td>\n      <td>0</td>\n      <td>0</td>\n      <td>0</td>\n      <td>0</td>\n      <td>0</td>\n      <td>0</td>\n      <td>0</td>\n      <td>0</td>\n      <td>0</td>\n      <td>0</td>\n      <td>0</td>\n      <td>0</td>\n      <td>0</td>\n      <td>0</td>\n      <td>0</td>\n      <td>0</td>\n      <td>0</td>\n      <td>0</td>\n      <td>0</td>\n      <td>0</td>\n      <td>0</td>\n      <td>0</td>\n      <td>0</td>\n      <td>0</td>\n      <td>0</td>\n      <td>0</td>\n      <td>0</td>\n      <td>0</td>\n      <td>0</td>\n      <td>0</td>\n      <td>0</td>\n      <td>0</td>\n      <td>0</td>\n      <td>0</td>\n      <td>0</td>\n      <td>0</td>\n      <td>0</td>\n      <td>0</td>\n      <td>0</td>\n      <td>0</td>\n      <td>0</td>\n      <td>0</td>\n      <td>0</td>\n      <td>0</td>\n      <td>0</td>\n      <td>0</td>\n      <td>0</td>\n      <td>0</td>\n      <td>0</td>\n      <td>0</td>\n      <td>0</td>\n      <td>0</td>\n      <td>0</td>\n      <td>0</td>\n      <td>0</td>\n      <td>0</td>\n      <td>0</td>\n      <td>0</td>\n      <td>0</td>\n      <td>0</td>\n      <td>0</td>\n      <td>0</td>\n      <td>0</td>\n      <td>0</td>\n      <td>0</td>\n      <td>0</td>\n      <td>0</td>\n      <td>0</td>\n      <td>0</td>\n      <td>0</td>\n      <td>0</td>\n      <td>0</td>\n      <td>0</td>\n      <td>0</td>\n      <td>0</td>\n      <td>0</td>\n      <td>0</td>\n      <td>0</td>\n      <td>0</td>\n      <td>0</td>\n      <td>0</td>\n      <td>0</td>\n      <td>0</td>\n      <td>0</td>\n      <td>0</td>\n      <td>0</td>\n      <td>0</td>\n      <td>0</td>\n      <td>0</td>\n      <td>0</td>\n      <td>0</td>\n      <td>0</td>\n      <td>0</td>\n      <td>0</td>\n      <td>0</td>\n      <td>0</td>\n      <td>0</td>\n      <td>0</td>\n      <td>0</td>\n      <td>0</td>\n      <td>0</td>\n      <td>0</td>\n      <td>0</td>\n      <td>0</td>\n      <td>0</td>\n      <td>0</td>\n      <td>0</td>\n      <td>0</td>\n      <td>0</td>\n    </tr>\n    <tr>\n      <th>1</th>\n      <td>Antioch</td>\n      <td>0</td>\n      <td>0</td>\n      <td>0</td>\n      <td>0</td>\n      <td>0</td>\n      <td>0</td>\n      <td>0</td>\n      <td>0</td>\n      <td>0</td>\n      <td>0</td>\n      <td>0</td>\n      <td>0</td>\n      <td>0</td>\n      <td>0</td>\n      <td>0</td>\n      <td>0</td>\n      <td>0</td>\n      <td>0</td>\n      <td>0</td>\n      <td>0</td>\n      <td>0</td>\n      <td>0</td>\n      <td>0</td>\n      <td>0</td>\n      <td>0</td>\n      <td>0</td>\n      <td>0</td>\n      <td>0</td>\n      <td>0</td>\n      <td>0</td>\n      <td>0</td>\n      <td>0</td>\n      <td>0</td>\n      <td>0</td>\n      <td>0</td>\n      <td>0</td>\n      <td>0</td>\n      <td>0</td>\n      <td>0</td>\n      <td>0</td>\n      <td>0</td>\n      <td>0</td>\n      <td>0</td>\n      <td>0</td>\n      <td>0</td>\n      <td>0</td>\n      <td>0</td>\n      <td>0</td>\n      <td>0</td>\n      <td>0</td>\n      <td>0</td>\n      <td>0</td>\n      <td>0</td>\n      <td>0</td>\n      <td>0</td>\n      <td>0</td>\n      <td>0</td>\n      <td>0</td>\n      <td>0</td>\n      <td>0</td>\n      <td>0</td>\n      <td>0</td>\n      <td>0</td>\n      <td>0</td>\n      <td>0</td>\n      <td>0</td>\n      <td>0</td>\n      <td>0</td>\n      <td>0</td>\n      <td>0</td>\n      <td>0</td>\n      <td>0</td>\n      <td>0</td>\n      <td>0</td>\n      <td>0</td>\n      <td>0</td>\n      <td>0</td>\n      <td>0</td>\n      <td>0</td>\n      <td>0</td>\n      <td>0</td>\n      <td>0</td>\n      <td>0</td>\n      <td>0</td>\n      <td>0</td>\n      <td>0</td>\n      <td>0</td>\n      <td>0</td>\n      <td>0</td>\n      <td>0</td>\n      <td>0</td>\n      <td>0</td>\n      <td>0</td>\n      <td>0</td>\n      <td>0</td>\n      <td>0</td>\n      <td>0</td>\n      <td>0</td>\n      <td>0</td>\n      <td>0</td>\n      <td>0</td>\n      <td>0</td>\n      <td>0</td>\n      <td>0</td>\n      <td>0</td>\n      <td>0</td>\n      <td>0</td>\n      <td>0</td>\n      <td>0</td>\n      <td>0</td>\n      <td>0</td>\n      <td>0</td>\n      <td>0</td>\n      <td>0</td>\n      <td>0</td>\n      <td>0</td>\n      <td>0</td>\n      <td>0</td>\n      <td>0</td>\n      <td>0</td>\n      <td>0</td>\n      <td>0</td>\n      <td>0</td>\n      <td>0</td>\n      <td>0</td>\n      <td>0</td>\n      <td>0</td>\n      <td>0</td>\n      <td>0</td>\n      <td>0</td>\n      <td>0</td>\n      <td>0</td>\n      <td>0</td>\n      <td>0</td>\n      <td>0</td>\n      <td>0</td>\n      <td>0</td>\n      <td>0</td>\n      <td>0</td>\n      <td>0</td>\n      <td>0</td>\n      <td>0</td>\n      <td>0</td>\n      <td>0</td>\n      <td>0</td>\n      <td>0</td>\n      <td>0</td>\n      <td>0</td>\n      <td>0</td>\n      <td>0</td>\n      <td>0</td>\n      <td>0</td>\n      <td>0</td>\n      <td>0</td>\n      <td>0</td>\n      <td>0</td>\n      <td>0</td>\n      <td>0</td>\n      <td>0</td>\n      <td>0</td>\n      <td>0</td>\n      <td>0</td>\n      <td>0</td>\n      <td>0</td>\n      <td>0</td>\n      <td>0</td>\n      <td>0</td>\n      <td>0</td>\n      <td>0</td>\n      <td>0</td>\n      <td>0</td>\n      <td>0</td>\n      <td>0</td>\n      <td>0</td>\n      <td>0</td>\n      <td>0</td>\n      <td>0</td>\n      <td>0</td>\n      <td>0</td>\n      <td>0</td>\n      <td>0</td>\n      <td>0</td>\n      <td>0</td>\n      <td>0</td>\n      <td>0</td>\n      <td>0</td>\n      <td>0</td>\n      <td>0</td>\n      <td>0</td>\n      <td>0</td>\n      <td>0</td>\n      <td>0</td>\n      <td>0</td>\n      <td>0</td>\n      <td>0</td>\n      <td>0</td>\n      <td>0</td>\n      <td>0</td>\n      <td>0</td>\n      <td>0</td>\n      <td>0</td>\n      <td>0</td>\n      <td>0</td>\n      <td>0</td>\n      <td>0</td>\n      <td>0</td>\n      <td>0</td>\n      <td>0</td>\n      <td>0</td>\n      <td>0</td>\n      <td>0</td>\n      <td>0</td>\n      <td>0</td>\n      <td>0</td>\n      <td>0</td>\n      <td>0</td>\n      <td>0</td>\n      <td>0</td>\n      <td>0</td>\n      <td>0</td>\n      <td>0</td>\n      <td>0</td>\n      <td>0</td>\n      <td>0</td>\n      <td>0</td>\n      <td>0</td>\n      <td>0</td>\n      <td>0</td>\n      <td>0</td>\n      <td>0</td>\n      <td>0</td>\n      <td>0</td>\n      <td>0</td>\n      <td>0</td>\n      <td>0</td>\n      <td>0</td>\n      <td>0</td>\n      <td>0</td>\n      <td>0</td>\n      <td>0</td>\n      <td>0</td>\n      <td>0</td>\n      <td>0</td>\n      <td>0</td>\n      <td>0</td>\n      <td>0</td>\n      <td>0</td>\n      <td>0</td>\n      <td>0</td>\n      <td>0</td>\n      <td>0</td>\n      <td>0</td>\n      <td>0</td>\n      <td>0</td>\n      <td>0</td>\n      <td>0</td>\n      <td>0</td>\n      <td>0</td>\n      <td>0</td>\n      <td>0</td>\n      <td>0</td>\n      <td>0</td>\n      <td>0</td>\n      <td>0</td>\n      <td>0</td>\n      <td>0</td>\n      <td>0</td>\n      <td>0</td>\n      <td>0</td>\n      <td>0</td>\n      <td>0</td>\n      <td>0</td>\n      <td>0</td>\n      <td>0</td>\n      <td>0</td>\n      <td>0</td>\n      <td>0</td>\n      <td>0</td>\n      <td>0</td>\n      <td>0</td>\n      <td>0</td>\n      <td>0</td>\n      <td>0</td>\n      <td>0</td>\n      <td>0</td>\n      <td>0</td>\n      <td>0</td>\n      <td>0</td>\n      <td>0</td>\n      <td>0</td>\n      <td>0</td>\n      <td>0</td>\n      <td>0</td>\n      <td>0</td>\n      <td>0</td>\n      <td>0</td>\n      <td>0</td>\n      <td>0</td>\n      <td>0</td>\n      <td>0</td>\n      <td>0</td>\n      <td>0</td>\n      <td>0</td>\n      <td>0</td>\n    </tr>\n    <tr>\n      <th>2</th>\n      <td>Antioch</td>\n      <td>0</td>\n      <td>0</td>\n      <td>0</td>\n      <td>0</td>\n      <td>0</td>\n      <td>0</td>\n      <td>0</td>\n      <td>0</td>\n      <td>0</td>\n      <td>0</td>\n      <td>0</td>\n      <td>0</td>\n      <td>0</td>\n      <td>0</td>\n      <td>0</td>\n      <td>0</td>\n      <td>0</td>\n      <td>0</td>\n      <td>0</td>\n      <td>0</td>\n      <td>0</td>\n      <td>0</td>\n      <td>0</td>\n      <td>0</td>\n      <td>0</td>\n      <td>0</td>\n      <td>0</td>\n      <td>0</td>\n      <td>0</td>\n      <td>0</td>\n      <td>0</td>\n      <td>0</td>\n      <td>0</td>\n      <td>0</td>\n      <td>0</td>\n      <td>0</td>\n      <td>0</td>\n      <td>0</td>\n      <td>0</td>\n      <td>0</td>\n      <td>0</td>\n      <td>0</td>\n      <td>0</td>\n      <td>0</td>\n      <td>0</td>\n      <td>0</td>\n      <td>0</td>\n      <td>0</td>\n      <td>0</td>\n      <td>0</td>\n      <td>0</td>\n      <td>0</td>\n      <td>0</td>\n      <td>0</td>\n      <td>0</td>\n      <td>0</td>\n      <td>0</td>\n      <td>0</td>\n      <td>0</td>\n      <td>0</td>\n      <td>0</td>\n      <td>0</td>\n      <td>0</td>\n      <td>0</td>\n      <td>0</td>\n      <td>0</td>\n      <td>0</td>\n      <td>0</td>\n      <td>0</td>\n      <td>0</td>\n      <td>0</td>\n      <td>0</td>\n      <td>0</td>\n      <td>0</td>\n      <td>0</td>\n      <td>0</td>\n      <td>0</td>\n      <td>0</td>\n      <td>0</td>\n      <td>0</td>\n      <td>0</td>\n      <td>0</td>\n      <td>0</td>\n      <td>0</td>\n      <td>0</td>\n      <td>0</td>\n      <td>0</td>\n      <td>0</td>\n      <td>0</td>\n      <td>0</td>\n      <td>0</td>\n      <td>0</td>\n      <td>0</td>\n      <td>0</td>\n      <td>0</td>\n      <td>0</td>\n      <td>0</td>\n      <td>0</td>\n      <td>0</td>\n      <td>0</td>\n      <td>0</td>\n      <td>0</td>\n      <td>0</td>\n      <td>0</td>\n      <td>0</td>\n      <td>0</td>\n      <td>0</td>\n      <td>0</td>\n      <td>0</td>\n      <td>0</td>\n      <td>0</td>\n      <td>0</td>\n      <td>0</td>\n      <td>0</td>\n      <td>0</td>\n      <td>0</td>\n      <td>0</td>\n      <td>0</td>\n      <td>0</td>\n      <td>0</td>\n      <td>0</td>\n      <td>0</td>\n      <td>0</td>\n      <td>0</td>\n      <td>0</td>\n      <td>0</td>\n      <td>0</td>\n      <td>0</td>\n      <td>0</td>\n      <td>0</td>\n      <td>0</td>\n      <td>0</td>\n      <td>0</td>\n      <td>0</td>\n      <td>0</td>\n      <td>0</td>\n      <td>0</td>\n      <td>0</td>\n      <td>0</td>\n      <td>0</td>\n      <td>0</td>\n      <td>0</td>\n      <td>0</td>\n      <td>0</td>\n      <td>0</td>\n      <td>0</td>\n      <td>0</td>\n      <td>0</td>\n      <td>0</td>\n      <td>0</td>\n      <td>0</td>\n      <td>0</td>\n      <td>0</td>\n      <td>0</td>\n      <td>0</td>\n      <td>0</td>\n      <td>0</td>\n      <td>0</td>\n      <td>0</td>\n      <td>0</td>\n      <td>0</td>\n      <td>0</td>\n      <td>0</td>\n      <td>0</td>\n      <td>0</td>\n      <td>0</td>\n      <td>0</td>\n      <td>0</td>\n      <td>0</td>\n      <td>0</td>\n      <td>0</td>\n      <td>0</td>\n      <td>0</td>\n      <td>0</td>\n      <td>0</td>\n      <td>0</td>\n      <td>0</td>\n      <td>0</td>\n      <td>0</td>\n      <td>0</td>\n      <td>0</td>\n      <td>0</td>\n      <td>0</td>\n      <td>0</td>\n      <td>0</td>\n      <td>0</td>\n      <td>0</td>\n      <td>0</td>\n      <td>0</td>\n      <td>0</td>\n      <td>0</td>\n      <td>0</td>\n      <td>0</td>\n      <td>0</td>\n      <td>0</td>\n      <td>0</td>\n      <td>0</td>\n      <td>0</td>\n      <td>0</td>\n      <td>0</td>\n      <td>0</td>\n      <td>0</td>\n      <td>0</td>\n      <td>0</td>\n      <td>0</td>\n      <td>0</td>\n      <td>0</td>\n      <td>0</td>\n      <td>0</td>\n      <td>0</td>\n      <td>0</td>\n      <td>0</td>\n      <td>0</td>\n      <td>0</td>\n      <td>0</td>\n      <td>0</td>\n      <td>0</td>\n      <td>0</td>\n      <td>0</td>\n      <td>0</td>\n      <td>0</td>\n      <td>0</td>\n      <td>0</td>\n      <td>0</td>\n      <td>0</td>\n      <td>0</td>\n      <td>0</td>\n      <td>0</td>\n      <td>0</td>\n      <td>0</td>\n      <td>0</td>\n      <td>0</td>\n      <td>0</td>\n      <td>0</td>\n      <td>0</td>\n      <td>0</td>\n      <td>0</td>\n      <td>0</td>\n      <td>0</td>\n      <td>0</td>\n      <td>0</td>\n      <td>0</td>\n      <td>0</td>\n      <td>0</td>\n      <td>0</td>\n      <td>0</td>\n      <td>0</td>\n      <td>0</td>\n      <td>0</td>\n      <td>0</td>\n      <td>0</td>\n      <td>0</td>\n      <td>0</td>\n      <td>0</td>\n      <td>0</td>\n      <td>0</td>\n      <td>0</td>\n      <td>0</td>\n      <td>0</td>\n      <td>0</td>\n      <td>0</td>\n      <td>0</td>\n      <td>0</td>\n      <td>0</td>\n      <td>0</td>\n      <td>0</td>\n      <td>0</td>\n      <td>0</td>\n      <td>0</td>\n      <td>0</td>\n      <td>0</td>\n      <td>0</td>\n      <td>0</td>\n      <td>0</td>\n      <td>0</td>\n      <td>0</td>\n      <td>0</td>\n      <td>0</td>\n      <td>0</td>\n      <td>0</td>\n      <td>0</td>\n      <td>0</td>\n      <td>0</td>\n      <td>0</td>\n      <td>0</td>\n      <td>0</td>\n      <td>0</td>\n      <td>0</td>\n      <td>0</td>\n      <td>0</td>\n      <td>0</td>\n      <td>0</td>\n      <td>0</td>\n      <td>0</td>\n      <td>0</td>\n      <td>0</td>\n      <td>0</td>\n      <td>0</td>\n      <td>0</td>\n      <td>0</td>\n      <td>0</td>\n      <td>0</td>\n      <td>0</td>\n      <td>0</td>\n    </tr>\n    <tr>\n      <th>3</th>\n      <td>Antioch</td>\n      <td>0</td>\n      <td>0</td>\n      <td>0</td>\n      <td>0</td>\n      <td>0</td>\n      <td>0</td>\n      <td>0</td>\n      <td>0</td>\n      <td>0</td>\n      <td>0</td>\n      <td>0</td>\n      <td>0</td>\n      <td>0</td>\n      <td>0</td>\n      <td>0</td>\n      <td>0</td>\n      <td>0</td>\n      <td>0</td>\n      <td>0</td>\n      <td>0</td>\n      <td>0</td>\n      <td>0</td>\n      <td>0</td>\n      <td>0</td>\n      <td>0</td>\n      <td>0</td>\n      <td>0</td>\n      <td>0</td>\n      <td>0</td>\n      <td>0</td>\n      <td>0</td>\n      <td>0</td>\n      <td>0</td>\n      <td>0</td>\n      <td>0</td>\n      <td>0</td>\n      <td>0</td>\n      <td>0</td>\n      <td>0</td>\n      <td>0</td>\n      <td>0</td>\n      <td>0</td>\n      <td>0</td>\n      <td>0</td>\n      <td>0</td>\n      <td>0</td>\n      <td>0</td>\n      <td>0</td>\n      <td>0</td>\n      <td>0</td>\n      <td>0</td>\n      <td>0</td>\n      <td>0</td>\n      <td>0</td>\n      <td>0</td>\n      <td>0</td>\n      <td>0</td>\n      <td>0</td>\n      <td>0</td>\n      <td>0</td>\n      <td>0</td>\n      <td>0</td>\n      <td>0</td>\n      <td>0</td>\n      <td>0</td>\n      <td>0</td>\n      <td>0</td>\n      <td>0</td>\n      <td>0</td>\n      <td>0</td>\n      <td>0</td>\n      <td>0</td>\n      <td>0</td>\n      <td>0</td>\n      <td>0</td>\n      <td>0</td>\n      <td>0</td>\n      <td>0</td>\n      <td>0</td>\n      <td>0</td>\n      <td>0</td>\n      <td>0</td>\n      <td>0</td>\n      <td>0</td>\n      <td>0</td>\n      <td>0</td>\n      <td>0</td>\n      <td>0</td>\n      <td>0</td>\n      <td>0</td>\n      <td>0</td>\n      <td>0</td>\n      <td>0</td>\n      <td>0</td>\n      <td>0</td>\n      <td>0</td>\n      <td>0</td>\n      <td>0</td>\n      <td>0</td>\n      <td>0</td>\n      <td>0</td>\n      <td>0</td>\n      <td>0</td>\n      <td>0</td>\n      <td>0</td>\n      <td>0</td>\n      <td>0</td>\n      <td>0</td>\n      <td>0</td>\n      <td>0</td>\n      <td>0</td>\n      <td>0</td>\n      <td>0</td>\n      <td>0</td>\n      <td>0</td>\n      <td>0</td>\n      <td>0</td>\n      <td>0</td>\n      <td>0</td>\n      <td>0</td>\n      <td>0</td>\n      <td>0</td>\n      <td>0</td>\n      <td>0</td>\n      <td>0</td>\n      <td>0</td>\n      <td>0</td>\n      <td>0</td>\n      <td>0</td>\n      <td>0</td>\n      <td>0</td>\n      <td>0</td>\n      <td>0</td>\n      <td>0</td>\n      <td>0</td>\n      <td>0</td>\n      <td>0</td>\n      <td>0</td>\n      <td>0</td>\n      <td>0</td>\n      <td>0</td>\n      <td>0</td>\n      <td>0</td>\n      <td>0</td>\n      <td>0</td>\n      <td>0</td>\n      <td>0</td>\n      <td>0</td>\n      <td>0</td>\n      <td>0</td>\n      <td>0</td>\n      <td>0</td>\n      <td>0</td>\n      <td>0</td>\n      <td>0</td>\n      <td>0</td>\n      <td>0</td>\n      <td>0</td>\n      <td>0</td>\n      <td>0</td>\n      <td>0</td>\n      <td>0</td>\n      <td>0</td>\n      <td>0</td>\n      <td>0</td>\n      <td>0</td>\n      <td>0</td>\n      <td>0</td>\n      <td>0</td>\n      <td>0</td>\n      <td>0</td>\n      <td>0</td>\n      <td>0</td>\n      <td>0</td>\n      <td>0</td>\n      <td>0</td>\n      <td>0</td>\n      <td>0</td>\n      <td>0</td>\n      <td>0</td>\n      <td>0</td>\n      <td>0</td>\n      <td>0</td>\n      <td>0</td>\n      <td>0</td>\n      <td>0</td>\n      <td>0</td>\n      <td>0</td>\n      <td>0</td>\n      <td>0</td>\n      <td>0</td>\n      <td>0</td>\n      <td>0</td>\n      <td>0</td>\n      <td>0</td>\n      <td>0</td>\n      <td>0</td>\n      <td>0</td>\n      <td>0</td>\n      <td>0</td>\n      <td>0</td>\n      <td>0</td>\n      <td>0</td>\n      <td>0</td>\n      <td>0</td>\n      <td>0</td>\n      <td>0</td>\n      <td>0</td>\n      <td>0</td>\n      <td>0</td>\n      <td>0</td>\n      <td>0</td>\n      <td>0</td>\n      <td>0</td>\n      <td>0</td>\n      <td>0</td>\n      <td>0</td>\n      <td>0</td>\n      <td>0</td>\n      <td>0</td>\n      <td>0</td>\n      <td>0</td>\n      <td>0</td>\n      <td>0</td>\n      <td>0</td>\n      <td>0</td>\n      <td>0</td>\n      <td>0</td>\n      <td>0</td>\n      <td>0</td>\n      <td>0</td>\n      <td>0</td>\n      <td>0</td>\n      <td>0</td>\n      <td>0</td>\n      <td>0</td>\n      <td>0</td>\n      <td>0</td>\n      <td>0</td>\n      <td>0</td>\n      <td>0</td>\n      <td>0</td>\n      <td>0</td>\n      <td>0</td>\n      <td>0</td>\n      <td>0</td>\n      <td>0</td>\n      <td>0</td>\n      <td>0</td>\n      <td>0</td>\n      <td>0</td>\n      <td>0</td>\n      <td>0</td>\n      <td>0</td>\n      <td>0</td>\n      <td>0</td>\n      <td>0</td>\n      <td>0</td>\n      <td>0</td>\n      <td>0</td>\n      <td>0</td>\n      <td>0</td>\n      <td>0</td>\n      <td>0</td>\n      <td>0</td>\n      <td>0</td>\n      <td>0</td>\n      <td>0</td>\n      <td>0</td>\n      <td>0</td>\n      <td>0</td>\n      <td>0</td>\n      <td>0</td>\n      <td>0</td>\n      <td>0</td>\n      <td>0</td>\n      <td>0</td>\n      <td>0</td>\n      <td>0</td>\n      <td>0</td>\n      <td>0</td>\n      <td>0</td>\n      <td>0</td>\n      <td>0</td>\n      <td>0</td>\n      <td>0</td>\n      <td>0</td>\n      <td>0</td>\n      <td>0</td>\n      <td>0</td>\n      <td>0</td>\n      <td>0</td>\n      <td>0</td>\n      <td>0</td>\n      <td>0</td>\n      <td>0</td>\n      <td>0</td>\n      <td>0</td>\n      <td>0</td>\n      <td>0</td>\n      <td>0</td>\n      <td>0</td>\n      <td>0</td>\n      <td>0</td>\n    </tr>\n    <tr>\n      <th>4</th>\n      <td>Antioch</td>\n      <td>0</td>\n      <td>0</td>\n      <td>0</td>\n      <td>0</td>\n      <td>0</td>\n      <td>0</td>\n      <td>0</td>\n      <td>0</td>\n      <td>0</td>\n      <td>0</td>\n      <td>0</td>\n      <td>0</td>\n      <td>0</td>\n      <td>0</td>\n      <td>0</td>\n      <td>0</td>\n      <td>0</td>\n      <td>0</td>\n      <td>0</td>\n      <td>0</td>\n      <td>0</td>\n      <td>0</td>\n      <td>0</td>\n      <td>0</td>\n      <td>0</td>\n      <td>0</td>\n      <td>0</td>\n      <td>0</td>\n      <td>0</td>\n      <td>0</td>\n      <td>0</td>\n      <td>0</td>\n      <td>0</td>\n      <td>0</td>\n      <td>0</td>\n      <td>0</td>\n      <td>0</td>\n      <td>0</td>\n      <td>0</td>\n      <td>0</td>\n      <td>0</td>\n      <td>0</td>\n      <td>0</td>\n      <td>0</td>\n      <td>0</td>\n      <td>0</td>\n      <td>0</td>\n      <td>0</td>\n      <td>0</td>\n      <td>0</td>\n      <td>0</td>\n      <td>0</td>\n      <td>0</td>\n      <td>0</td>\n      <td>0</td>\n      <td>0</td>\n      <td>0</td>\n      <td>0</td>\n      <td>0</td>\n      <td>0</td>\n      <td>0</td>\n      <td>0</td>\n      <td>0</td>\n      <td>0</td>\n      <td>0</td>\n      <td>0</td>\n      <td>0</td>\n      <td>0</td>\n      <td>0</td>\n      <td>0</td>\n      <td>0</td>\n      <td>0</td>\n      <td>0</td>\n      <td>0</td>\n      <td>0</td>\n      <td>0</td>\n      <td>0</td>\n      <td>0</td>\n      <td>0</td>\n      <td>0</td>\n      <td>0</td>\n      <td>0</td>\n      <td>0</td>\n      <td>0</td>\n      <td>0</td>\n      <td>0</td>\n      <td>0</td>\n      <td>0</td>\n      <td>0</td>\n      <td>0</td>\n      <td>0</td>\n      <td>0</td>\n      <td>0</td>\n      <td>0</td>\n      <td>0</td>\n      <td>0</td>\n      <td>0</td>\n      <td>0</td>\n      <td>0</td>\n      <td>0</td>\n      <td>0</td>\n      <td>0</td>\n      <td>0</td>\n      <td>0</td>\n      <td>0</td>\n      <td>0</td>\n      <td>0</td>\n      <td>0</td>\n      <td>0</td>\n      <td>0</td>\n      <td>0</td>\n      <td>0</td>\n      <td>0</td>\n      <td>0</td>\n      <td>0</td>\n      <td>0</td>\n      <td>0</td>\n      <td>0</td>\n      <td>0</td>\n      <td>0</td>\n      <td>0</td>\n      <td>0</td>\n      <td>0</td>\n      <td>0</td>\n      <td>0</td>\n      <td>0</td>\n      <td>0</td>\n      <td>0</td>\n      <td>0</td>\n      <td>0</td>\n      <td>0</td>\n      <td>0</td>\n      <td>0</td>\n      <td>0</td>\n      <td>0</td>\n      <td>0</td>\n      <td>0</td>\n      <td>0</td>\n      <td>0</td>\n      <td>0</td>\n      <td>0</td>\n      <td>0</td>\n      <td>0</td>\n      <td>0</td>\n      <td>0</td>\n      <td>0</td>\n      <td>0</td>\n      <td>0</td>\n      <td>0</td>\n      <td>0</td>\n      <td>0</td>\n      <td>0</td>\n      <td>0</td>\n      <td>0</td>\n      <td>0</td>\n      <td>0</td>\n      <td>0</td>\n      <td>0</td>\n      <td>0</td>\n      <td>0</td>\n      <td>0</td>\n      <td>0</td>\n      <td>0</td>\n      <td>0</td>\n      <td>0</td>\n      <td>0</td>\n      <td>0</td>\n      <td>0</td>\n      <td>0</td>\n      <td>0</td>\n      <td>0</td>\n      <td>0</td>\n      <td>0</td>\n      <td>0</td>\n      <td>0</td>\n      <td>0</td>\n      <td>0</td>\n      <td>0</td>\n      <td>0</td>\n      <td>0</td>\n      <td>0</td>\n      <td>0</td>\n      <td>0</td>\n      <td>0</td>\n      <td>0</td>\n      <td>0</td>\n      <td>0</td>\n      <td>0</td>\n      <td>0</td>\n      <td>0</td>\n      <td>0</td>\n      <td>0</td>\n      <td>0</td>\n      <td>0</td>\n      <td>0</td>\n      <td>0</td>\n      <td>0</td>\n      <td>0</td>\n      <td>0</td>\n      <td>0</td>\n      <td>0</td>\n      <td>0</td>\n      <td>0</td>\n      <td>0</td>\n      <td>0</td>\n      <td>0</td>\n      <td>0</td>\n      <td>0</td>\n      <td>0</td>\n      <td>0</td>\n      <td>0</td>\n      <td>0</td>\n      <td>0</td>\n      <td>0</td>\n      <td>0</td>\n      <td>0</td>\n      <td>0</td>\n      <td>0</td>\n      <td>0</td>\n      <td>0</td>\n      <td>0</td>\n      <td>0</td>\n      <td>0</td>\n      <td>0</td>\n      <td>0</td>\n      <td>0</td>\n      <td>0</td>\n      <td>0</td>\n      <td>0</td>\n      <td>0</td>\n      <td>0</td>\n      <td>0</td>\n      <td>0</td>\n      <td>0</td>\n      <td>0</td>\n      <td>0</td>\n      <td>0</td>\n      <td>0</td>\n      <td>0</td>\n      <td>0</td>\n      <td>0</td>\n      <td>0</td>\n      <td>0</td>\n      <td>0</td>\n      <td>0</td>\n      <td>0</td>\n      <td>0</td>\n      <td>0</td>\n      <td>0</td>\n      <td>0</td>\n      <td>0</td>\n      <td>0</td>\n      <td>0</td>\n      <td>0</td>\n      <td>0</td>\n      <td>0</td>\n      <td>0</td>\n      <td>0</td>\n      <td>0</td>\n      <td>0</td>\n      <td>0</td>\n      <td>0</td>\n      <td>0</td>\n      <td>0</td>\n      <td>0</td>\n      <td>0</td>\n      <td>0</td>\n      <td>0</td>\n      <td>0</td>\n      <td>0</td>\n      <td>0</td>\n      <td>0</td>\n      <td>0</td>\n      <td>0</td>\n      <td>0</td>\n      <td>0</td>\n      <td>0</td>\n      <td>0</td>\n      <td>0</td>\n      <td>0</td>\n      <td>0</td>\n      <td>0</td>\n      <td>0</td>\n      <td>0</td>\n      <td>0</td>\n      <td>0</td>\n      <td>0</td>\n      <td>0</td>\n      <td>0</td>\n      <td>0</td>\n      <td>0</td>\n      <td>0</td>\n      <td>0</td>\n      <td>0</td>\n      <td>0</td>\n      <td>0</td>\n      <td>0</td>\n      <td>0</td>\n      <td>0</td>\n      <td>0</td>\n      <td>0</td>\n      <td>0</td>\n      <td>0</td>\n      <td>0</td>\n    </tr>\n  </tbody>\n</table>\n</div>"
                    },
                    "metadata": {}
                }
            ]
        },
        {
            "metadata": {},
            "cell_type": "markdown",
            "source": "##### Mean Frequency Occurance of each category"
        },
        {
            "metadata": {},
            "cell_type": "code",
            "source": "nv_grouped = nv_onehot.groupby([\"Neighborhoods\"]).mean().reset_index()",
            "execution_count": null,
            "outputs": []
        },
        {
            "metadata": {},
            "cell_type": "markdown",
            "source": "##### Create a new dataframe for Restaurants only"
        },
        {
            "metadata": {},
            "cell_type": "code",
            "source": "df5=nv_grouped[[\"Neighborhoods\",\"Shopping Malls\"]]",
            "execution_count": null,
            "outputs": []
        },
        {
            "metadata": {},
            "cell_type": "code",
            "source": "df5.head()",
            "execution_count": 2,
            "outputs": [
                {
                    "output_type": "execute_result",
                    "execution_count": 2,
                    "data": {
                        "text/plain": "     Neighborhood  Shopping Malls\n0         Antioch            0.01\n1          Bakers            0.00\n2         Bellvue            0.02\n3        Donelson            0.01\n4  East Nashville            0.00",
                        "text/html": "<div>\n<style scoped>\n    .dataframe tbody tr th:only-of-type {\n        vertical-align: middle;\n    }\n\n    .dataframe tbody tr th {\n        vertical-align: top;\n    }\n\n    .dataframe thead th {\n        text-align: right;\n    }\n</style>\n<table border=\"1\" class=\"dataframe\">\n  <thead>\n    <tr style=\"text-align: right;\">\n      <th></th>\n      <th>Neighborhood</th>\n      <th>Shopping Malls</th>\n    </tr>\n  </thead>\n  <tbody>\n    <tr>\n      <th>0</th>\n      <td>Antioch</td>\n      <td>0.01</td>\n    </tr>\n    <tr>\n      <th>1</th>\n      <td>Bakers</td>\n      <td>0.00</td>\n    </tr>\n    <tr>\n      <th>2</th>\n      <td>Bellvue</td>\n      <td>0.02</td>\n    </tr>\n    <tr>\n      <th>3</th>\n      <td>Donelson</td>\n      <td>0.01</td>\n    </tr>\n    <tr>\n      <th>4</th>\n      <td>East Nashville</td>\n      <td>0.00</td>\n    </tr>\n  </tbody>\n</table>\n</div>"
                    },
                    "metadata": {}
                }
            ]
        },
        {
            "metadata": {},
            "cell_type": "markdown",
            "source": "### Cluster Neighborhoods"
        },
        {
            "metadata": {},
            "cell_type": "code",
            "source": "# set number of clusters\nkclusters = 3\n\nnv_clustering = nv_mall.drop([\"Neighborhoods\"], 1)\n\n# run k-means clustering\nkmeans = KMeans(n_clusters=kclusters, random_state=0).fit(nv_clustering)",
            "execution_count": null,
            "outputs": []
        },
        {
            "metadata": {},
            "cell_type": "code",
            "source": "# create a new dataframe that includes the cluster as well as the top 10 venues for each neighborhood.\nnv_merged = nv_mall.copy()\n\n# add clustering labels\nnv_merged[\"Cluster Labels\"] = kmeans.labels_",
            "execution_count": null,
            "outputs": []
        },
        {
            "metadata": {},
            "cell_type": "code",
            "source": "df6=nv_merged.rename(columns={\"Neighborhoods\": \"Neighborhood\"}, inplace=True)",
            "execution_count": null,
            "outputs": []
        },
        {
            "metadata": {},
            "cell_type": "code",
            "source": "df6.head()",
            "execution_count": 5,
            "outputs": [
                {
                    "output_type": "execute_result",
                    "execution_count": 5,
                    "data": {
                        "text/plain": "     Neighborhood  Shopping Malls  Cluster Labels\n0         Antioch            0.01               1\n1          Bakers            0.00               1\n2         Bellvue            0.02               1\n3        Donelson            0.01               1\n4  East Nashville            0.00               1",
                        "text/html": "<div>\n<style scoped>\n    .dataframe tbody tr th:only-of-type {\n        vertical-align: middle;\n    }\n\n    .dataframe tbody tr th {\n        vertical-align: top;\n    }\n\n    .dataframe thead th {\n        text-align: right;\n    }\n</style>\n<table border=\"1\" class=\"dataframe\">\n  <thead>\n    <tr style=\"text-align: right;\">\n      <th></th>\n      <th>Neighborhood</th>\n      <th>Shopping Malls</th>\n      <th>Cluster Labels</th>\n    </tr>\n  </thead>\n  <tbody>\n    <tr>\n      <th>0</th>\n      <td>Antioch</td>\n      <td>0.01</td>\n      <td>1</td>\n    </tr>\n    <tr>\n      <th>1</th>\n      <td>Bakers</td>\n      <td>0.00</td>\n      <td>1</td>\n    </tr>\n    <tr>\n      <th>2</th>\n      <td>Bellvue</td>\n      <td>0.02</td>\n      <td>1</td>\n    </tr>\n    <tr>\n      <th>3</th>\n      <td>Donelson</td>\n      <td>0.01</td>\n      <td>1</td>\n    </tr>\n    <tr>\n      <th>4</th>\n      <td>East Nashville</td>\n      <td>0.00</td>\n      <td>1</td>\n    </tr>\n  </tbody>\n</table>\n</div>"
                    },
                    "metadata": {}
                }
            ]
        },
        {
            "metadata": {},
            "cell_type": "code",
            "source": "# merge nashville_grouped with nashville_data to add latitude/longitude for each neighborhood\ndf7 = nv_merged = nv_merged.join(nv_df.set_index(\"Neighborhood\"), on=\"Neighborhood\")",
            "execution_count": null,
            "outputs": []
        },
        {
            "metadata": {},
            "cell_type": "code",
            "source": "df7.head()",
            "execution_count": 7,
            "outputs": [
                {
                    "output_type": "execute_result",
                    "execution_count": 7,
                    "data": {
                        "text/plain": "     Neighborhood  Shopping Malls  Cluster Labels   Latitude  Longitude\n0         Antioch            0.01               1  36.162757  86.781661\n1          Bakers            0.00               1  36.264589  86.873351\n2         Bellvue            0.02               1  36.213641  86.677695\n3        Donelson            0.01               1  36.188542  86.598365\n4  East Nashville            0.00               1  36.193642  86.552143",
                        "text/html": "<div>\n<style scoped>\n    .dataframe tbody tr th:only-of-type {\n        vertical-align: middle;\n    }\n\n    .dataframe tbody tr th {\n        vertical-align: top;\n    }\n\n    .dataframe thead th {\n        text-align: right;\n    }\n</style>\n<table border=\"1\" class=\"dataframe\">\n  <thead>\n    <tr style=\"text-align: right;\">\n      <th></th>\n      <th>Neighborhood</th>\n      <th>Shopping Malls</th>\n      <th>Cluster Labels</th>\n      <th>Latitude</th>\n      <th>Longitude</th>\n    </tr>\n  </thead>\n  <tbody>\n    <tr>\n      <th>0</th>\n      <td>Antioch</td>\n      <td>0.01</td>\n      <td>1</td>\n      <td>36.162757</td>\n      <td>86.781661</td>\n    </tr>\n    <tr>\n      <th>1</th>\n      <td>Bakers</td>\n      <td>0.00</td>\n      <td>1</td>\n      <td>36.264589</td>\n      <td>86.873351</td>\n    </tr>\n    <tr>\n      <th>2</th>\n      <td>Bellvue</td>\n      <td>0.02</td>\n      <td>1</td>\n      <td>36.213641</td>\n      <td>86.677695</td>\n    </tr>\n    <tr>\n      <th>3</th>\n      <td>Donelson</td>\n      <td>0.01</td>\n      <td>1</td>\n      <td>36.188542</td>\n      <td>86.598365</td>\n    </tr>\n    <tr>\n      <th>4</th>\n      <td>East Nashville</td>\n      <td>0.00</td>\n      <td>1</td>\n      <td>36.193642</td>\n      <td>86.552143</td>\n    </tr>\n  </tbody>\n</table>\n</div>"
                    },
                    "metadata": {}
                }
            ]
        },
        {
            "metadata": {},
            "cell_type": "code",
            "source": "# sort the results by Cluster Labels\nnv_merged.sort_values([\"Cluster Labels\"], inplace=True)",
            "execution_count": null,
            "outputs": []
        },
        {
            "metadata": {},
            "cell_type": "markdown",
            "source": "##### Visualize Clusters"
        },
        {
            "metadata": {},
            "cell_type": "code",
            "source": "map_clusters = folium.Map(location=[latitude, longitude], zoom_start=11)\n\n# set color scheme for the clusters\nx = np.arange(kclusters)\nys = [i+x+(i*x)**2 for i in range(kclusters)]\ncolors_array = cm.rainbow(np.linspace(0, 1, len(ys)))\nrainbow = [colors.rgb2hex(i) for i in colors_array]\n\n# add markers to the map\nmarkers_colors = []\nfor lat, lon, poi, cluster in zip(nv_merged['Latitude'],nv_merged['Longitude'], nv_merged['Neighborhood'], nv_merged['Cluster Labels']):\n    label = folium.Popup(str(poi) + ' - Cluster ' + str(cluster), parse_html=True)\n    folium.CircleMarker(\n        [lat, lon],\n        radius=5,\n        popup=label,\n        color=rainbow[cluster-1],\n        fill=True,\n        fill_color=rainbow[cluster-1],\n        fill_opacity=0.7).add_to(map_clusters)\n       \nmap_clusters",
            "execution_count": null,
            "outputs": []
        },
        {
            "metadata": {},
            "cell_type": "code",
            "source": "# save the map as HTML file\nmap_clusters.save('map_clusters.html')",
            "execution_count": null,
            "outputs": []
        },
        {
            "metadata": {},
            "cell_type": "markdown",
            "source": "### Examine Clusters"
        },
        {
            "metadata": {},
            "cell_type": "markdown",
            "source": "##### Cluster 0"
        },
        {
            "metadata": {},
            "cell_type": "code",
            "source": "df8 = nv_merged.loc[nv_merged['Cluster Labels'] == 0]",
            "execution_count": null,
            "outputs": []
        },
        {
            "metadata": {},
            "cell_type": "code",
            "source": "df8",
            "execution_count": 2,
            "outputs": [
                {
                    "output_type": "execute_result",
                    "execution_count": 2,
                    "data": {
                        "text/plain": "  Neighborhood  Shopping Malls  Cluster Labels   Latitude  Longitude\n0  Green Hills            0.02               0  36.162757  86.781446\n1    Hermitage            0.01               0  36.135674  86.904766\n2     Hopewell            0.01               0  36.145989  86.884123\n3      Joelton            0.01               0  36.142218  86.790034\n4  Old Hickory            0.02               0  36.376198  86.771131\n5       Pasquo            0.01               0  36.245091  86.073658\n6     Tusculum            0.01               0  36.200437  86.698772",
                        "text/html": "<div>\n<style scoped>\n    .dataframe tbody tr th:only-of-type {\n        vertical-align: middle;\n    }\n\n    .dataframe tbody tr th {\n        vertical-align: top;\n    }\n\n    .dataframe thead th {\n        text-align: right;\n    }\n</style>\n<table border=\"1\" class=\"dataframe\">\n  <thead>\n    <tr style=\"text-align: right;\">\n      <th></th>\n      <th>Neighborhood</th>\n      <th>Shopping Malls</th>\n      <th>Cluster Labels</th>\n      <th>Latitude</th>\n      <th>Longitude</th>\n    </tr>\n  </thead>\n  <tbody>\n    <tr>\n      <th>0</th>\n      <td>Green Hills</td>\n      <td>0.02</td>\n      <td>0</td>\n      <td>36.162757</td>\n      <td>86.781446</td>\n    </tr>\n    <tr>\n      <th>1</th>\n      <td>Hermitage</td>\n      <td>0.01</td>\n      <td>0</td>\n      <td>36.135674</td>\n      <td>86.904766</td>\n    </tr>\n    <tr>\n      <th>2</th>\n      <td>Hopewell</td>\n      <td>0.01</td>\n      <td>0</td>\n      <td>36.145989</td>\n      <td>86.884123</td>\n    </tr>\n    <tr>\n      <th>3</th>\n      <td>Joelton</td>\n      <td>0.01</td>\n      <td>0</td>\n      <td>36.142218</td>\n      <td>86.790034</td>\n    </tr>\n    <tr>\n      <th>4</th>\n      <td>Old Hickory</td>\n      <td>0.02</td>\n      <td>0</td>\n      <td>36.376198</td>\n      <td>86.771131</td>\n    </tr>\n    <tr>\n      <th>5</th>\n      <td>Pasquo</td>\n      <td>0.01</td>\n      <td>0</td>\n      <td>36.245091</td>\n      <td>86.073658</td>\n    </tr>\n    <tr>\n      <th>6</th>\n      <td>Tusculum</td>\n      <td>0.01</td>\n      <td>0</td>\n      <td>36.200437</td>\n      <td>86.698772</td>\n    </tr>\n  </tbody>\n</table>\n</div>"
                    },
                    "metadata": {}
                }
            ]
        },
        {
            "metadata": {},
            "cell_type": "markdown",
            "source": "##### Cluster 1"
        },
        {
            "metadata": {},
            "cell_type": "code",
            "source": "df9 = nv_merged.loc[nv_merged['Cluster Labels'] == 1]",
            "execution_count": null,
            "outputs": []
        },
        {
            "metadata": {},
            "cell_type": "code",
            "source": "df9",
            "execution_count": 4,
            "outputs": [
                {
                    "output_type": "execute_result",
                    "execution_count": 4,
                    "data": {
                        "text/plain": "        Neighborhood  Shopping Malls  Cluster Labels   Latitude  Longitude\n0            Antioch               0               1  36.162757  86.781661\n1             Bakers               0               1  36.264589  86.873351\n2            Bellvue               0               1  36.213641  86.677695\n3           Donelson               0               1  36.188542  86.598365\n4     East Nashville               0               1  36.193642  86.552143\n5          Inglewood               0               1  36.183430  86.556721\n6  Richland-West End               0               1  36.299430  86.619832",
                        "text/html": "<div>\n<style scoped>\n    .dataframe tbody tr th:only-of-type {\n        vertical-align: middle;\n    }\n\n    .dataframe tbody tr th {\n        vertical-align: top;\n    }\n\n    .dataframe thead th {\n        text-align: right;\n    }\n</style>\n<table border=\"1\" class=\"dataframe\">\n  <thead>\n    <tr style=\"text-align: right;\">\n      <th></th>\n      <th>Neighborhood</th>\n      <th>Shopping Malls</th>\n      <th>Cluster Labels</th>\n      <th>Latitude</th>\n      <th>Longitude</th>\n    </tr>\n  </thead>\n  <tbody>\n    <tr>\n      <th>0</th>\n      <td>Antioch</td>\n      <td>0</td>\n      <td>1</td>\n      <td>36.162757</td>\n      <td>86.781661</td>\n    </tr>\n    <tr>\n      <th>1</th>\n      <td>Bakers</td>\n      <td>0</td>\n      <td>1</td>\n      <td>36.264589</td>\n      <td>86.873351</td>\n    </tr>\n    <tr>\n      <th>2</th>\n      <td>Bellvue</td>\n      <td>0</td>\n      <td>1</td>\n      <td>36.213641</td>\n      <td>86.677695</td>\n    </tr>\n    <tr>\n      <th>3</th>\n      <td>Donelson</td>\n      <td>0</td>\n      <td>1</td>\n      <td>36.188542</td>\n      <td>86.598365</td>\n    </tr>\n    <tr>\n      <th>4</th>\n      <td>East Nashville</td>\n      <td>0</td>\n      <td>1</td>\n      <td>36.193642</td>\n      <td>86.552143</td>\n    </tr>\n    <tr>\n      <th>5</th>\n      <td>Inglewood</td>\n      <td>0</td>\n      <td>1</td>\n      <td>36.183430</td>\n      <td>86.556721</td>\n    </tr>\n    <tr>\n      <th>6</th>\n      <td>Richland-West End</td>\n      <td>0</td>\n      <td>1</td>\n      <td>36.299430</td>\n      <td>86.619832</td>\n    </tr>\n  </tbody>\n</table>\n</div>"
                    },
                    "metadata": {}
                }
            ]
        },
        {
            "metadata": {},
            "cell_type": "markdown",
            "source": "##### Cluster 2"
        },
        {
            "metadata": {},
            "cell_type": "code",
            "source": "df10 = nv_merged.loc[nv_merged['Cluster Labels'] == 2]",
            "execution_count": null,
            "outputs": []
        },
        {
            "metadata": {},
            "cell_type": "code",
            "source": "df10",
            "execution_count": 6,
            "outputs": [
                {
                    "output_type": "execute_result",
                    "execution_count": 6,
                    "data": {
                        "text/plain": "   Neighborhood  Shopping Malls  Cluster Labels   Latitude  Longitude\n0     The Gulch            0.03               2  36.162686  86.781911\n1     Hillsboro            0.03               2  36.155903  86.763308\n2      Lakewood            0.04               2  36.288931  86.689945\n3     Lockeland            0.03               2  36.147206  86.814455\n4       Madison            0.02               2  36.150122  86.753391\n5  Whites Creek            0.04               2  36.176189  86.724867",
                        "text/html": "<div>\n<style scoped>\n    .dataframe tbody tr th:only-of-type {\n        vertical-align: middle;\n    }\n\n    .dataframe tbody tr th {\n        vertical-align: top;\n    }\n\n    .dataframe thead th {\n        text-align: right;\n    }\n</style>\n<table border=\"1\" class=\"dataframe\">\n  <thead>\n    <tr style=\"text-align: right;\">\n      <th></th>\n      <th>Neighborhood</th>\n      <th>Shopping Malls</th>\n      <th>Cluster Labels</th>\n      <th>Latitude</th>\n      <th>Longitude</th>\n    </tr>\n  </thead>\n  <tbody>\n    <tr>\n      <th>0</th>\n      <td>The Gulch</td>\n      <td>0.03</td>\n      <td>2</td>\n      <td>36.162686</td>\n      <td>86.781911</td>\n    </tr>\n    <tr>\n      <th>1</th>\n      <td>Hillsboro</td>\n      <td>0.03</td>\n      <td>2</td>\n      <td>36.155903</td>\n      <td>86.763308</td>\n    </tr>\n    <tr>\n      <th>2</th>\n      <td>Lakewood</td>\n      <td>0.04</td>\n      <td>2</td>\n      <td>36.288931</td>\n      <td>86.689945</td>\n    </tr>\n    <tr>\n      <th>3</th>\n      <td>Lockeland</td>\n      <td>0.03</td>\n      <td>2</td>\n      <td>36.147206</td>\n      <td>86.814455</td>\n    </tr>\n    <tr>\n      <th>4</th>\n      <td>Madison</td>\n      <td>0.02</td>\n      <td>2</td>\n      <td>36.150122</td>\n      <td>86.753391</td>\n    </tr>\n    <tr>\n      <th>5</th>\n      <td>Whites Creek</td>\n      <td>0.04</td>\n      <td>2</td>\n      <td>36.176189</td>\n      <td>86.724867</td>\n    </tr>\n  </tbody>\n</table>\n</div>"
                    },
                    "metadata": {}
                }
            ]
        },
        {
            "metadata": {},
            "cell_type": "markdown",
            "source": "##### Observations"
        },
        {
            "metadata": {},
            "cell_type": "markdown",
            "source": "Most of the shopping malls are concentrated in the central area of Nashville, Tennesse, with the highest number in cluster 2 and moderate number in cluster 0. On the other hand, cluster 1 has very low number to totally no shopping malls in the neighborhoods. This represents a great opportunity and high potential areas to open new shopping malls as there is very little to no competition from existing malls. Meanwhile, shopping malls in cluster 2 are likely suffering from intense competition due to oversupply and high concentration of shopping malls. From another perspective, this also shows that the oversupply of shopping malls mostly happened in the central area of the city, with the suburb area still have very few shopping malls. Therefore, this project recommends property developers to capitalize on these findings to open new shopping malls in neighborhoods in cluster 1 with little to no competition. Property developers with unique selling propositions to stand out from the competition can also open new shopping malls in neighborhoods in cluster 0 with moderate competition. Lastly, property developers are advised to avoid neighborhoods in cluster 2 which already have high concentration of shopping malls and suffering from intense competition."
        },
        {
            "metadata": {},
            "cell_type": "code",
            "source": "",
            "execution_count": null,
            "outputs": []
        }
    ],
    "metadata": {
        "kernelspec": {
            "name": "python3",
            "display_name": "Python 3.6",
            "language": "python"
        },
        "language_info": {
            "name": "python",
            "version": "3.6.9",
            "mimetype": "text/x-python",
            "codemirror_mode": {
                "name": "ipython",
                "version": 3
            },
            "pygments_lexer": "ipython3",
            "nbconvert_exporter": "python",
            "file_extension": ".py"
        }
    },
    "nbformat": 4,
    "nbformat_minor": 1
}